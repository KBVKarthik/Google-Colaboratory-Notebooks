{
  "nbformat": 4,
  "nbformat_minor": 0,
  "metadata": {
    "colab": {
      "name": "DNN Multi-Output Regression.ipynb",
      "provenance": [],
      "authorship_tag": "ABX9TyN2YXVEu5ZbjpMejhbkfcMe",
      "include_colab_link": true
    },
    "kernelspec": {
      "name": "python3",
      "display_name": "Python 3"
    },
    "language_info": {
      "name": "python"
    },
    "accelerator": "GPU"
  },
  "cells": [
    {
      "cell_type": "markdown",
      "metadata": {
        "id": "view-in-github",
        "colab_type": "text"
      },
      "source": [
        "<a href=\"https://colab.research.google.com/github/KBVKarthik/Google-Colaboratory-Notebooks/blob/main/DNN_Multi_Output_Regression.ipynb\" target=\"_parent\"><img src=\"https://colab.research.google.com/assets/colab-badge.svg\" alt=\"Open In Colab\"/></a>"
      ]
    },
    {
      "cell_type": "code",
      "metadata": {
        "colab": {
          "base_uri": "https://localhost:8080/"
        },
        "id": "P5NDPNbBRIG7",
        "outputId": "f7a4ef0f-ee40-4a1a-a35b-29c110c3ed62"
      },
      "source": [
        "\n",
        "from numpy import asarray\n",
        "from sklearn.datasets import make_regression\n",
        "from keras.models import Sequential\n",
        "from keras.layers import Dense\n",
        " \n",
        "\n",
        "def get_dataset():\n",
        "\tX, y = make_regression(n_samples=1000, n_features=10, n_informative=5, n_targets=3, random_state=2)\n",
        "\treturn X, y\n",
        " \n",
        "\n",
        "def get_model(n_inputs, n_outputs):\n",
        "\tmodel = Sequential()\n",
        "\tmodel.add(Dense(20, input_dim=n_inputs, kernel_initializer='he_uniform', activation='relu'))\n",
        "\tmodel.add(Dense(n_outputs, kernel_initializer='he_uniform'))\n",
        "\tmodel.compile(loss='mae', optimizer='adam')\n",
        "\treturn model\n",
        " \n",
        "\n",
        "X, y = get_dataset()\n",
        "n_inputs, n_outputs = X.shape[1], y.shape[1]\n",
        "\n",
        "model = get_model(n_inputs, n_outputs)\n",
        "\n",
        "model.fit(X, y, verbose=0, epochs=100)\n",
        "\n",
        "row = [-0.99859353,2.19284309,-0.42632569,-0.21043258,-1.13655612,-0.55671602,-0.63169045,-0.87625098,-0.99445578,-0.3677487]\n",
        "newX = asarray([row])\n",
        "yhat = model.predict(newX)\n",
        "print('Predicted: %s' % yhat[0])"
      ],
      "execution_count": 19,
      "outputs": [
        {
          "output_type": "stream",
          "text": [
            "Predicted: [-144.62263  -85.09646  -92.16264]\n"
          ],
          "name": "stdout"
        }
      ]
    }
  ]
}