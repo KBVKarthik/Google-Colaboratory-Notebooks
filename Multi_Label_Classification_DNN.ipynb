{
  "nbformat": 4,
  "nbformat_minor": 0,
  "metadata": {
    "colab": {
      "name": "Multi-Label Classification DNN.ipynb",
      "provenance": [],
      "authorship_tag": "ABX9TyMmM1r9OKSMS/47F6fBaog2",
      "include_colab_link": true
    },
    "kernelspec": {
      "name": "python3",
      "display_name": "Python 3"
    },
    "language_info": {
      "name": "python"
    },
    "accelerator": "GPU"
  },
  "cells": [
    {
      "cell_type": "markdown",
      "metadata": {
        "id": "view-in-github",
        "colab_type": "text"
      },
      "source": [
        "<a href=\"https://colab.research.google.com/github/KBVKarthik/Google-Colaboratory-Notebooks/blob/main/Multi_Label_Classification_DNN.ipynb\" target=\"_parent\"><img src=\"https://colab.research.google.com/assets/colab-badge.svg\" alt=\"Open In Colab\"/></a>"
      ]
    },
    {
      "cell_type": "code",
      "metadata": {
        "colab": {
          "base_uri": "https://localhost:8080/"
        },
        "id": "sNaoTOTmQonn",
        "outputId": "c734c015-f7a6-4de3-daa0-7c938e41aa74"
      },
      "source": [
        "\n",
        "from numpy import asarray\n",
        "from sklearn.datasets import make_multilabel_classification\n",
        "from keras.models import Sequential\n",
        "from keras.layers import Dense\n",
        " \n",
        "\n",
        "def get_dataset():\n",
        "\tX, y = make_multilabel_classification(n_samples=1000, n_features=10, n_classes=3, n_labels=2, random_state=1)\n",
        "\treturn X, y\n",
        " \n",
        "\n",
        "def get_model(n_inputs, n_outputs):\n",
        "\tmodel = Sequential()\n",
        "\tmodel.add(Dense(20, input_dim=n_inputs, kernel_initializer='he_uniform', activation='relu'))\n",
        "\tmodel.add(Dense(n_outputs, activation='sigmoid'))\n",
        "\tmodel.compile(loss='binary_crossentropy', optimizer='adam')\n",
        "\treturn model\n",
        " \n",
        "\n",
        "X, y = get_dataset()\n",
        "n_inputs, n_outputs = X.shape[1], y.shape[1]\n",
        "\n",
        "model = get_model(n_inputs, n_outputs)\n",
        "\n",
        "model.fit(X, y, verbose=0, epochs=100)\n",
        "\n",
        "row = [3, 3, 6, 7, 8, 2, 11, 11, 1, 3]\n",
        "newX = asarray([row])\n",
        "yhat = model.predict(newX)\n",
        "print('Predicted: %s' % yhat[0])"
      ],
      "execution_count": 18,
      "outputs": [
        {
          "output_type": "stream",
          "text": [
            "Predicted: [0.9990422  0.96812916 0.00389668]\n"
          ],
          "name": "stdout"
        }
      ]
    }
  ]
}