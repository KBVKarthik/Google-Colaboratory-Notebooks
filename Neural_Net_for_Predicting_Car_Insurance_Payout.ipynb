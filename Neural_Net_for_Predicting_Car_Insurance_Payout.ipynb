{
  "nbformat": 4,
  "nbformat_minor": 0,
  "metadata": {
    "colab": {
      "name": "Neural Net for Predicting Car Insurance Payout.ipynb",
      "provenance": [],
      "authorship_tag": "ABX9TyNKcbFdbZMklmH2mFVe4Jk4",
      "include_colab_link": true
    },
    "kernelspec": {
      "name": "python3",
      "display_name": "Python 3"
    },
    "language_info": {
      "name": "python"
    },
    "accelerator": "GPU"
  },
  "cells": [
    {
      "cell_type": "markdown",
      "metadata": {
        "id": "view-in-github",
        "colab_type": "text"
      },
      "source": [
        "<a href=\"https://colab.research.google.com/github/KBVKarthik/Google-Colaboratory-Notebooks/blob/main/Neural_Net_for_Predicting_Car_Insurance_Payout.ipynb\" target=\"_parent\"><img src=\"https://colab.research.google.com/assets/colab-badge.svg\" alt=\"Open In Colab\"/></a>"
      ]
    },
    {
      "cell_type": "code",
      "metadata": {
        "colab": {
          "base_uri": "https://localhost:8080/"
        },
        "id": "CONaQ5XoH-tw",
        "outputId": "a00b5eac-d4dd-47d4-bba0-c2c7adb1b9f7"
      },
      "source": [
        "\n",
        "from pandas import read_csv\n",
        "from sklearn.model_selection import KFold\n",
        "from sklearn.metrics import mean_absolute_error\n",
        "from sklearn.preprocessing import MinMaxScaler\n",
        "from tensorflow.keras import Sequential\n",
        "from tensorflow.keras.layers import Dense\n",
        "\n",
        "path = 'https://raw.githubusercontent.com/jbrownlee/Datasets/master/auto-insurance.csv'\n",
        "df = read_csv(path, header=None)\n",
        "\n",
        "X, y = df.values[:, :-1], df.values[:, -1]\n",
        "\n",
        "y = y.reshape((len(y),1))\n",
        "\n",
        "pt1 = MinMaxScaler()\n",
        "pt1.fit(X)\n",
        "X = pt1.transform(X)\n",
        "\n",
        "pt2 = MinMaxScaler()\n",
        "pt2.fit(y)\n",
        "y = pt2.transform(y)\n",
        "\n",
        "n_features = X.shape[1]\n",
        "\n",
        "model = Sequential()\n",
        "model.add(Dense(10, activation='relu', kernel_initializer='he_normal', input_shape=(n_features,)))\n",
        "model.add(Dense(8, activation='relu', kernel_initializer='he_normal'))\n",
        "model.add(Dense(1))\n",
        "\n",
        "model.compile(optimizer='adam', loss='mse')\n",
        "\n",
        "model.fit(X, y, epochs=200, batch_size=8, verbose=0)\n",
        "\n",
        "row = [13]\n",
        "\n",
        "X_new = pt1.transform([row])\n",
        "\n",
        "yhat = model.predict(X_new)\n",
        "\n",
        "yhat = pt2.inverse_transform(yhat)\n",
        "\n",
        "print('f(%s) = %.3f' % (row, yhat[0]))"
      ],
      "execution_count": 12,
      "outputs": [
        {
          "output_type": "stream",
          "text": [
            "f([13]) = 63.432\n"
          ],
          "name": "stdout"
        }
      ]
    }
  ]
}