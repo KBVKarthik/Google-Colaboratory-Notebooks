{
  "nbformat": 4,
  "nbformat_minor": 0,
  "metadata": {
    "colab": {
      "name": "Neural Network Predictive Modeling.ipynb",
      "provenance": [],
      "authorship_tag": "ABX9TyMaYkzfpRWkOPj+8pK72pQ6",
      "include_colab_link": true
    },
    "kernelspec": {
      "name": "python3",
      "display_name": "Python 3"
    },
    "language_info": {
      "name": "python"
    },
    "accelerator": "GPU"
  },
  "cells": [
    {
      "cell_type": "markdown",
      "metadata": {
        "id": "view-in-github",
        "colab_type": "text"
      },
      "source": [
        "<a href=\"https://colab.research.google.com/github/KBVKarthik/Google-Colaboratory-Notebooks/blob/main/Neural_Network_Predictive_Modeling.ipynb\" target=\"_parent\"><img src=\"https://colab.research.google.com/assets/colab-badge.svg\" alt=\"Open In Colab\"/></a>"
      ]
    },
    {
      "cell_type": "code",
      "metadata": {
        "colab": {
          "base_uri": "https://localhost:8080/"
        },
        "id": "CONaQ5XoH-tw",
        "outputId": "9a245c44-5ea8-4fb8-f353-55e8a2d0f4e4"
      },
      "source": [
        "\n",
        "from numpy import hstack\n",
        "from numpy import vstack\n",
        "from numpy import mean\n",
        "from sklearn.datasets import make_classification\n",
        "from sklearn.model_selection import train_test_split\n",
        "from tensorflow.keras.models import Sequential\n",
        "from tensorflow.keras.layers import Dense\n",
        "from tensorflow.keras.optimizers import SGD\n",
        "\n",
        "X, y = make_classification(n_samples=1000, n_features=20, n_informative=15, n_redundant=5, random_state=1)\n",
        "\n",
        "n_features = X.shape[1]\n",
        "\n",
        "X_old, X_new, y_old, y_new = train_test_split(X, y, test_size=0.50, random_state=1)\n",
        "\n",
        "old_model = Sequential()\n",
        "old_model.add(Dense(20, kernel_initializer='he_normal', activation='relu', input_dim=n_features))\n",
        "old_model.add(Dense(10, kernel_initializer='he_normal', activation='relu'))\n",
        "old_model.add(Dense(1, activation='sigmoid'))\n",
        "\n",
        "opt = SGD(learning_rate=0.01, momentum=0.9)\n",
        "\n",
        "old_model.compile(optimizer=opt, loss='binary_crossentropy')\n",
        "\n",
        "old_model.fit(X_old, y_old, epochs=150, batch_size=32, verbose=0)\n",
        " \n",
        "\n",
        " \n",
        "\n",
        "new_model = Sequential()\n",
        "new_model.add(Dense(20, kernel_initializer='he_normal', activation='relu', input_dim=n_features))\n",
        "new_model.add(Dense(10, kernel_initializer='he_normal', activation='relu'))\n",
        "new_model.add(Dense(1, activation='sigmoid'))\n",
        "\n",
        "opt = SGD(learning_rate=0.01, momentum=0.9)\n",
        "\n",
        "new_model.compile(optimizer=opt, loss='binary_crossentropy')\n",
        "\n",
        "X_both, y_both = vstack((X_old, X_new)), hstack((y_old, y_new))\n",
        "\n",
        "new_model.fit(X_both, y_both, epochs=150, batch_size=32, verbose=0)\n",
        " \n",
        "\n",
        "yhat1 = old_model.predict(X_new)\n",
        "yhat2 = new_model.predict(X_new)\n",
        "\n",
        "combined = hstack((yhat1, yhat2))\n",
        "\n",
        "yhat = mean(combined, axis=-1)"
      ],
      "execution_count": 8,
      "outputs": [
        {
          "output_type": "stream",
          "text": [
            "WARNING:tensorflow:6 out of the last 49 calls to <function Model.make_predict_function.<locals>.predict_function at 0x7f7bdc049560> triggered tf.function retracing. Tracing is expensive and the excessive number of tracings could be due to (1) creating @tf.function repeatedly in a loop, (2) passing tensors with different shapes, (3) passing Python objects instead of tensors. For (1), please define your @tf.function outside of the loop. For (2), @tf.function has experimental_relax_shapes=True option that relaxes argument shapes that can avoid unnecessary retracing. For (3), please refer to https://www.tensorflow.org/guide/function#controlling_retracing and https://www.tensorflow.org/api_docs/python/tf/function for  more details.\n"
          ],
          "name": "stdout"
        }
      ]
    }
  ]
}