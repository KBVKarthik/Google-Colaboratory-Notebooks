{
  "nbformat": 4,
  "nbformat_minor": 0,
  "metadata": {
    "colab": {
      "name": "Prediction Intervals for Deep Learning Neural Networks.ipynb",
      "provenance": [],
      "authorship_tag": "ABX9TyM9LMZZS8/Euwj8LpEpiaJ8",
      "include_colab_link": true
    },
    "kernelspec": {
      "name": "python3",
      "display_name": "Python 3"
    },
    "language_info": {
      "name": "python"
    },
    "accelerator": "GPU"
  },
  "cells": [
    {
      "cell_type": "markdown",
      "metadata": {
        "id": "view-in-github",
        "colab_type": "text"
      },
      "source": [
        "<a href=\"https://colab.research.google.com/github/KBVKarthik/Google-Colaboratory-Notebooks/blob/main/Prediction_Intervals_for_Deep_Learning_Neural_Networks.ipynb\" target=\"_parent\"><img src=\"https://colab.research.google.com/assets/colab-badge.svg\" alt=\"Open In Colab\"/></a>"
      ]
    },
    {
      "cell_type": "code",
      "metadata": {
        "colab": {
          "base_uri": "https://localhost:8080/"
        },
        "id": "CONaQ5XoH-tw",
        "outputId": "f7916651-eb3d-483d-9e9b-b26e3f279f23"
      },
      "source": [
        "\n",
        "from numpy import asarray\n",
        "from pandas import read_csv\n",
        "from sklearn.model_selection import train_test_split\n",
        "from sklearn.metrics import mean_absolute_error\n",
        "from sklearn.preprocessing import MinMaxScaler\n",
        "from tensorflow.keras.models import Sequential\n",
        "from tensorflow.keras.layers import Dense\n",
        "from tensorflow.keras.optimizers import Adam\n",
        " \n",
        "\n",
        "def load_dataset(url):\n",
        "\tdataframe = read_csv(url, header=None)\n",
        "\tvalues = dataframe.values\n",
        "\n",
        "\tX, y = values[:, :-1], values[:,-1]\n",
        "\n",
        "\tX_train, X_test, y_train, y_test = train_test_split(X, y, train_size=0.67, random_state=1)\n",
        "\n",
        "\tscaler = MinMaxScaler()\n",
        "\tscaler.fit(X_train)\n",
        "\tX_train = scaler.transform(X_train)\n",
        "\tX_test = scaler.transform(X_test)\n",
        "\treturn X_train, X_test, y_train, y_test\n",
        " \n",
        "\n",
        "def fit_model(X_train, y_train):\n",
        "\n",
        "\tfeatures = X_train.shape[1]\n",
        "\tmodel = Sequential()\n",
        "\tmodel.add(Dense(20, kernel_initializer='he_normal', activation='relu', input_dim=features))\n",
        "\tmodel.add(Dense(5, kernel_initializer='he_normal', activation='relu'))\n",
        "\tmodel.add(Dense(1))\n",
        "\n",
        "\topt = Adam(learning_rate=0.01, beta_1=0.85, beta_2=0.999)\n",
        "\tmodel.compile(optimizer=opt, loss='mse')\n",
        "\n",
        "\tmodel.fit(X_train, y_train, verbose=0, epochs=300, batch_size=16)\n",
        "\treturn model\n",
        " \n",
        "\n",
        "def fit_ensemble(n_members, X_train, X_test, y_train, y_test):\n",
        "\tensemble = list()\n",
        "\tfor i in range(n_members):\n",
        "\n",
        "\t\tmodel = fit_model(X_train, y_train)\n",
        "\n",
        "\t\tyhat = model.predict(X_test, verbose=0)\n",
        "\t\tmae = mean_absolute_error(y_test, yhat)\n",
        "\t\tprint('>%d, MAE: %.3f' % (i+1, mae))\n",
        "\n",
        "\t\tensemble.append(model)\n",
        "\treturn ensemble\n",
        " \n",
        "\n",
        "def predict_with_pi(ensemble, X):\n",
        "\n",
        "\tyhat = [model.predict(X, verbose=0) for model in ensemble]\n",
        "\tyhat = asarray(yhat)\n",
        "\n",
        "\tinterval = 1.96 * yhat.std()\n",
        "\tlower, upper = yhat.mean() - interval, yhat.mean() + interval\n",
        "\treturn lower, yhat.mean(), upper\n",
        " \n",
        "\n",
        "url = 'https://raw.githubusercontent.com/jbrownlee/Datasets/master/housing.csv'\n",
        "X_train, X_test, y_train, y_test = load_dataset(url)\n",
        "\n",
        "n_members = 30\n",
        "ensemble = fit_ensemble(n_members, X_train, X_test, y_train, y_test)\n",
        "\n",
        "newX = asarray([X_test[0, :]])\n",
        "lower, mean, upper = predict_with_pi(ensemble, newX)\n",
        "print('Point prediction: %.3f' % mean)\n",
        "print('95%% prediction interval: [%.3f, %.3f]' % (lower, upper))\n",
        "print('True value: %.3f' % y_test[0])"
      ],
      "execution_count": 9,
      "outputs": [
        {
          "output_type": "stream",
          "text": [
            ">1, MAE: 2.896\n",
            ">2, MAE: 2.302\n",
            ">3, MAE: 2.374\n",
            ">4, MAE: 6.622\n",
            ">5, MAE: 2.486\n",
            ">6, MAE: 2.322\n",
            ">7, MAE: 2.365\n",
            ">8, MAE: 2.517\n",
            ">9, MAE: 2.855\n",
            ">10, MAE: 2.365\n",
            ">11, MAE: 2.303\n",
            ">12, MAE: 2.631\n",
            ">13, MAE: 2.310\n",
            ">14, MAE: 2.704\n",
            ">15, MAE: 2.527\n",
            ">16, MAE: 2.768\n",
            ">17, MAE: 2.478\n",
            ">18, MAE: 2.309\n",
            ">19, MAE: 2.470\n",
            ">20, MAE: 6.621\n",
            ">21, MAE: 2.954\n",
            ">22, MAE: 2.261\n",
            ">23, MAE: 2.528\n",
            ">24, MAE: 2.406\n",
            ">25, MAE: 2.498\n",
            ">26, MAE: 2.456\n",
            ">27, MAE: 2.554\n",
            ">28, MAE: 2.485\n",
            ">29, MAE: 2.307\n",
            ">30, MAE: 2.664\n",
            "Point prediction: 30.377\n",
            "95% prediction interval: [24.701, 36.052]\n",
            "True value: 28.200\n"
          ],
          "name": "stdout"
        }
      ]
    }
  ]
}