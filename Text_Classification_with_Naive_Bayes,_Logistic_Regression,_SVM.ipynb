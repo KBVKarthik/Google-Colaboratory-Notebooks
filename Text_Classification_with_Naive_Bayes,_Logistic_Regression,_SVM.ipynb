{
  "nbformat": 4,
  "nbformat_minor": 0,
  "metadata": {
    "colab": {
      "name": "Text Classification with Naive Bayes, Logistic Regression, SVM.ipynb",
      "provenance": [],
      "authorship_tag": "ABX9TyNYv3IXqr4ztZpbvPFehoua",
      "include_colab_link": true
    },
    "kernelspec": {
      "name": "python3",
      "display_name": "Python 3"
    },
    "language_info": {
      "name": "python"
    }
  },
  "cells": [
    {
      "cell_type": "markdown",
      "metadata": {
        "id": "view-in-github",
        "colab_type": "text"
      },
      "source": [
        "<a href=\"https://colab.research.google.com/github/KBVKarthik/Google-Colaboratory-Notebooks/blob/main/Text_Classification_with_Naive_Bayes%2C_Logistic_Regression%2C_SVM.ipynb\" target=\"_parent\"><img src=\"https://colab.research.google.com/assets/colab-badge.svg\" alt=\"Open In Colab\"/></a>"
      ]
    },
    {
      "cell_type": "code",
      "execution_count": 1,
      "metadata": {
        "colab": {
          "base_uri": "https://localhost:8080/",
          "height": 954
        },
        "id": "Pd-bkFpQwLSO",
        "outputId": "2836ed5a-49c0-4e45-c2c9-f51a9eca39e9"
      },
      "outputs": [
        {
          "output_type": "stream",
          "name": "stdout",
          "text": [
            "Collecting numpy==1.19.5\n",
            "  Downloading numpy-1.19.5-cp37-cp37m-manylinux2010_x86_64.whl (14.8 MB)\n",
            "\u001b[K     |████████████████████████████████| 14.8 MB 23.9 MB/s \n",
            "\u001b[?25hInstalling collected packages: numpy\n",
            "  Attempting uninstall: numpy\n",
            "    Found existing installation: numpy 1.21.5\n",
            "    Uninstalling numpy-1.21.5:\n",
            "      Successfully uninstalled numpy-1.21.5\n",
            "\u001b[31mERROR: pip's dependency resolver does not currently take into account all the packages that are installed. This behaviour is the source of the following dependency conflicts.\n",
            "tensorflow 2.8.0 requires tf-estimator-nightly==2.8.0.dev2021122109, which is not installed.\n",
            "tensorflow 2.8.0 requires numpy>=1.20, but you have numpy 1.19.5 which is incompatible.\n",
            "datascience 0.10.6 requires folium==0.2.1, but you have folium 0.8.3 which is incompatible.\n",
            "albumentations 0.1.12 requires imgaug<0.2.7,>=0.2.5, but you have imgaug 0.2.9 which is incompatible.\u001b[0m\n",
            "Successfully installed numpy-1.19.5\n"
          ]
        },
        {
          "output_type": "display_data",
          "data": {
            "application/vnd.colab-display-data+json": {
              "pip_warning": {
                "packages": [
                  "numpy"
                ]
              }
            }
          },
          "metadata": {}
        },
        {
          "output_type": "stream",
          "name": "stdout",
          "text": [
            "Collecting pandas==1.1.5\n",
            "  Downloading pandas-1.1.5-cp37-cp37m-manylinux1_x86_64.whl (9.5 MB)\n",
            "\u001b[K     |████████████████████████████████| 9.5 MB 8.3 MB/s \n",
            "\u001b[?25hRequirement already satisfied: numpy>=1.15.4 in /usr/local/lib/python3.7/dist-packages (from pandas==1.1.5) (1.19.5)\n",
            "Requirement already satisfied: python-dateutil>=2.7.3 in /usr/local/lib/python3.7/dist-packages (from pandas==1.1.5) (2.8.2)\n",
            "Requirement already satisfied: pytz>=2017.2 in /usr/local/lib/python3.7/dist-packages (from pandas==1.1.5) (2018.9)\n",
            "Requirement already satisfied: six>=1.5 in /usr/local/lib/python3.7/dist-packages (from python-dateutil>=2.7.3->pandas==1.1.5) (1.15.0)\n",
            "Installing collected packages: pandas\n",
            "  Attempting uninstall: pandas\n",
            "    Found existing installation: pandas 1.3.5\n",
            "    Uninstalling pandas-1.3.5:\n",
            "      Successfully uninstalled pandas-1.3.5\n",
            "Successfully installed pandas-1.1.5\n",
            "Collecting scikit-learn==0.21.3\n",
            "  Downloading scikit_learn-0.21.3-cp37-cp37m-manylinux1_x86_64.whl (6.7 MB)\n",
            "\u001b[K     |████████████████████████████████| 6.7 MB 23.5 MB/s \n",
            "\u001b[?25hRequirement already satisfied: numpy>=1.11.0 in /usr/local/lib/python3.7/dist-packages (from scikit-learn==0.21.3) (1.19.5)\n",
            "Requirement already satisfied: joblib>=0.11 in /usr/local/lib/python3.7/dist-packages (from scikit-learn==0.21.3) (1.1.0)\n",
            "Requirement already satisfied: scipy>=0.17.0 in /usr/local/lib/python3.7/dist-packages (from scikit-learn==0.21.3) (1.4.1)\n",
            "Installing collected packages: scikit-learn\n",
            "  Attempting uninstall: scikit-learn\n",
            "    Found existing installation: scikit-learn 1.0.2\n",
            "    Uninstalling scikit-learn-1.0.2:\n",
            "      Successfully uninstalled scikit-learn-1.0.2\n",
            "\u001b[31mERROR: pip's dependency resolver does not currently take into account all the packages that are installed. This behaviour is the source of the following dependency conflicts.\n",
            "yellowbrick 1.4 requires scikit-learn>=1.0.0, but you have scikit-learn 0.21.3 which is incompatible.\n",
            "imbalanced-learn 0.8.1 requires scikit-learn>=0.24, but you have scikit-learn 0.21.3 which is incompatible.\u001b[0m\n",
            "Successfully installed scikit-learn-0.21.3\n",
            "Requirement already satisfied: matplotlib==3.2.2 in /usr/local/lib/python3.7/dist-packages (3.2.2)\n",
            "Requirement already satisfied: pyparsing!=2.0.4,!=2.1.2,!=2.1.6,>=2.0.1 in /usr/local/lib/python3.7/dist-packages (from matplotlib==3.2.2) (3.0.7)\n",
            "Requirement already satisfied: cycler>=0.10 in /usr/local/lib/python3.7/dist-packages (from matplotlib==3.2.2) (0.11.0)\n",
            "Requirement already satisfied: numpy>=1.11 in /usr/local/lib/python3.7/dist-packages (from matplotlib==3.2.2) (1.19.5)\n",
            "Requirement already satisfied: python-dateutil>=2.1 in /usr/local/lib/python3.7/dist-packages (from matplotlib==3.2.2) (2.8.2)\n",
            "Requirement already satisfied: kiwisolver>=1.0.1 in /usr/local/lib/python3.7/dist-packages (from matplotlib==3.2.2) (1.3.2)\n",
            "Requirement already satisfied: six>=1.5 in /usr/local/lib/python3.7/dist-packages (from python-dateutil>=2.1->matplotlib==3.2.2) (1.15.0)\n"
          ]
        }
      ],
      "source": [
        "\n",
        "\n",
        "!pip install numpy==1.19.5\n",
        "!pip install pandas==1.1.5\n",
        "!pip install scikit-learn==0.21.3\n",
        "!pip install matplotlib==3.2.2\n"
      ]
    },
    {
      "cell_type": "code",
      "source": [
        "import warnings\n",
        "warnings.filterwarnings('ignore')\n",
        "import numpy as np\n",
        "import pandas as pd # to work with csv files\n",
        "\n",
        "\n",
        "import matplotlib as mpl \n",
        "import matplotlib.cm as cm \n",
        "import matplotlib.pyplot as plt \n",
        "\n",
        "\n",
        "from sklearn.feature_extraction.text import CountVectorizer\n",
        "from sklearn.feature_extraction import stop_words\n",
        "\n",
        "\n",
        "import string\n",
        "import re\n",
        "\n",
        "\n",
        "from sklearn.naive_bayes import MultinomialNB\n",
        "from sklearn.linear_model import LogisticRegression\n",
        "from sklearn.svm import LinearSVC\n",
        "\n",
        "\n",
        "from sklearn.metrics import accuracy_score\n",
        "\n",
        "\n",
        "from sklearn.metrics import confusion_matrix \n",
        "from sklearn import metrics\n",
        "\n",
        "\n",
        "from time import time"
      ],
      "metadata": {
        "id": "DeyjfqEkwcYK"
      },
      "execution_count": 1,
      "outputs": []
    },
    {
      "cell_type": "code",
      "source": [
        "try:\n",
        "    from google.colab import files\n",
        "    !wget -P DATAPATH https://raw.githubusercontent.com/practical-nlp/practical-nlp/master/Ch4/Data/Full-Economic-News-DFE-839861.csv\n",
        "    !ls -lah DATAPATH\n",
        "    our_data = pd.read_csv(\"DATAPATH/Full-Economic-News-DFE-839861.csv\" , encoding = \"ISO-8859-1\" )\n",
        "\n",
        "except ModuleNotFoundError:\n",
        "    our_data = pd.read_csv(\"Data/Full-Economic-News-DFE-839861.csv\" , encoding = \"ISO-8859-1\" )"
      ],
      "metadata": {
        "colab": {
          "base_uri": "https://localhost:8080/"
        },
        "id": "ChwTBzudwlE7",
        "outputId": "1220a2cb-1e7a-43bd-c70a-b2e2afa35e26"
      },
      "execution_count": 2,
      "outputs": [
        {
          "output_type": "stream",
          "name": "stdout",
          "text": [
            "--2022-03-14 09:31:29--  https://raw.githubusercontent.com/practical-nlp/practical-nlp/master/Ch4/Data/Full-Economic-News-DFE-839861.csv\n",
            "Resolving raw.githubusercontent.com (raw.githubusercontent.com)... 185.199.111.133, 185.199.110.133, 185.199.108.133, ...\n",
            "Connecting to raw.githubusercontent.com (raw.githubusercontent.com)|185.199.111.133|:443... connected.\n",
            "HTTP request sent, awaiting response... 200 OK\n",
            "Length: 12383529 (12M) [text/plain]\n",
            "Saving to: ‘DATAPATH/Full-Economic-News-DFE-839861.csv.1’\n",
            "\n",
            "\r          Full-Econ   0%[                    ]       0  --.-KB/s               \rFull-Economic-News- 100%[===================>]  11.81M  --.-KB/s    in 0.06s   \n",
            "\n",
            "2022-03-14 09:31:29 (205 MB/s) - ‘DATAPATH/Full-Economic-News-DFE-839861.csv.1’ saved [12383529/12383529]\n",
            "\n",
            "total 24M\n",
            "drwxr-xr-x 2 root root 4.0K Mar 14 09:31 .\n",
            "drwxr-xr-x 1 root root 4.0K Mar 14 09:28 ..\n",
            "-rw-r--r-- 1 root root  12M Mar 14 09:28 Full-Economic-News-DFE-839861.csv\n",
            "-rw-r--r-- 1 root root  12M Mar 14 09:31 Full-Economic-News-DFE-839861.csv.1\n"
          ]
        }
      ]
    },
    {
      "cell_type": "code",
      "source": [
        "display(our_data.shape) \n",
        "our_data[\"relevance\"].value_counts()/our_data.shape[0] "
      ],
      "metadata": {
        "colab": {
          "base_uri": "https://localhost:8080/",
          "height": 104
        },
        "id": "bnVymx8RwoHR",
        "outputId": "7f32be88-4897-406f-c1b4-192e81a9e4e6"
      },
      "execution_count": 3,
      "outputs": [
        {
          "output_type": "display_data",
          "data": {
            "text/plain": [
              "(8000, 15)"
            ]
          },
          "metadata": {}
        },
        {
          "output_type": "execute_result",
          "data": {
            "text/plain": [
              "no          0.821375\n",
              "yes         0.177500\n",
              "not sure    0.001125\n",
              "Name: relevance, dtype: float64"
            ]
          },
          "metadata": {},
          "execution_count": 3
        }
      ]
    },
    {
      "cell_type": "code",
      "source": [
        "our_data = our_data[our_data.relevance != \"not sure\"] \n",
        "our_data.shape\n",
        "our_data['relevance'] = our_data.relevance.map({'yes':1, 'no':0}) \n",
        "our_data = our_data[[\"text\",\"relevance\"]] \n",
        "our_data.shape"
      ],
      "metadata": {
        "colab": {
          "base_uri": "https://localhost:8080/"
        },
        "id": "teWchAv_ws4a",
        "outputId": "5a87ac79-80d4-4dc0-8e87-721468836605"
      },
      "execution_count": 4,
      "outputs": [
        {
          "output_type": "execute_result",
          "data": {
            "text/plain": [
              "(7991, 2)"
            ]
          },
          "metadata": {},
          "execution_count": 4
        }
      ]
    },
    {
      "cell_type": "code",
      "source": [
        "stopwords = stop_words.ENGLISH_STOP_WORDS\n",
        "def clean(doc): \n",
        "    doc = doc.replace(\"</br>\", \" \") \n",
        "    doc = \"\".join([char for char in doc if char not in string.punctuation and not char.isdigit()])\n",
        "    doc = \" \".join([token for token in doc.split() if token not in stopwords])\n",
        "    \n",
        "    return doc"
      ],
      "metadata": {
        "id": "tIJ0cMX7wva5"
      },
      "execution_count": 5,
      "outputs": []
    },
    {
      "cell_type": "code",
      "source": [
        "import sklearn\n",
        "\n",
        "from sklearn.model_selection import train_test_split\n",
        "\n",
        "\n",
        "X = our_data.text \n",
        "y = our_data.relevance \n",
        "print(X.shape, y.shape)\n",
        "\n",
        "X_train, X_test, y_train, y_test = train_test_split(X, y, random_state=1)\n",
        "print(X_train.shape, y_train.shape)\n",
        "print(X_test.shape, y_test.shape)"
      ],
      "metadata": {
        "colab": {
          "base_uri": "https://localhost:8080/"
        },
        "id": "_2ZCcsHjw4ES",
        "outputId": "72c97667-9cee-488d-f03a-2a6bd4be6e8b"
      },
      "execution_count": 6,
      "outputs": [
        {
          "output_type": "stream",
          "name": "stdout",
          "text": [
            "(7991,) (7991,)\n",
            "(5993,) (5993,)\n",
            "(1998,) (1998,)\n"
          ]
        }
      ]
    },
    {
      "cell_type": "code",
      "source": [
        "vect = CountVectorizer(preprocessor=clean) \n",
        "X_train_dtm = vect.fit_transform(X_train)\n",
        "X_test_dtm = vect.transform(X_test)\n",
        "print(X_train_dtm.shape, X_test_dtm.shape)"
      ],
      "metadata": {
        "colab": {
          "base_uri": "https://localhost:8080/"
        },
        "id": "Ag82yyZ1xAnq",
        "outputId": "7493035b-151a-46e1-dd72-cbfcd8d1d7e2"
      },
      "execution_count": 7,
      "outputs": [
        {
          "output_type": "stream",
          "name": "stdout",
          "text": [
            "(5993, 49753) (1998, 49753)\n"
          ]
        }
      ]
    },
    {
      "cell_type": "code",
      "source": [
        "nb = MultinomialNB() \n",
        "%time nb.fit(X_train_dtm, y_train) \n",
        "y_pred_class = nb.predict(X_test_dtm) "
      ],
      "metadata": {
        "colab": {
          "base_uri": "https://localhost:8080/"
        },
        "id": "iuLBbfBFxFMa",
        "outputId": "f353e871-3c72-46c5-9301-8c558f7929dd"
      },
      "execution_count": 8,
      "outputs": [
        {
          "output_type": "stream",
          "name": "stdout",
          "text": [
            "CPU times: user 17.8 ms, sys: 0 ns, total: 17.8 ms\n",
            "Wall time: 46.8 ms\n"
          ]
        }
      ]
    },
    {
      "cell_type": "code",
      "source": [
        "import itertools\n",
        "from sklearn.metrics import roc_auc_score\n",
        "\n",
        "def plot_confusion_matrix(cm, classes,\n",
        "                          normalize=False,\n",
        "                          title='Confusion matrix',\n",
        "                          cmap=plt.cm.Blues):\n",
        "\n",
        "    if normalize:\n",
        "        cm = cm.astype('float') / cm.sum(axis=1)[:, np.newaxis]\n",
        "\n",
        "    plt.imshow(cm, interpolation='nearest', cmap=cmap)\n",
        "    plt.title(title)\n",
        "    plt.colorbar()\n",
        "    tick_marks = np.arange(len(classes))\n",
        "    plt.xticks(tick_marks, classes, rotation=45)\n",
        "    plt.yticks(tick_marks, classes)\n",
        "\n",
        "    fmt = '.2f' if normalize else 'd'\n",
        "    thresh = cm.max() / 2.\n",
        "    for i, j in itertools.product(range(cm.shape[0]), range(cm.shape[1])):\n",
        "        plt.text(j, i, format(cm[i, j], fmt),\n",
        "                 horizontalalignment=\"center\",\n",
        "                 color=\"white\" if cm[i, j] > thresh else \"black\")\n",
        "\n",
        "    plt.tight_layout()\n",
        "    plt.ylabel('True label',fontsize=15)\n",
        "    plt.xlabel('Predicted label',fontsize=15)\n",
        "    \n",
        "    \n",
        "\n",
        "print(\"Accuracy: \", accuracy_score(y_test, y_pred_class))\n",
        "\n",
        "    \n",
        "\n",
        "cnf_matrix = confusion_matrix(y_test, y_pred_class)\n",
        "plt.figure(figsize=(8,6))\n",
        "plot_confusion_matrix(cnf_matrix, classes=['Not Relevant','Relevant'],normalize=True,\n",
        "                      title='Confusion matrix with all features')\n",
        "\n",
        "\n",
        "y_pred_prob = nb.predict_proba(X_test_dtm)[:, 1]\n",
        "print(\"ROC_AOC_Score: \", roc_auc_score(y_test, y_pred_prob))"
      ],
      "metadata": {
        "colab": {
          "base_uri": "https://localhost:8080/",
          "height": 495
        },
        "id": "g9BMvKgfxKCa",
        "outputId": "0419690a-b180-4592-ad77-89110d78d3cb"
      },
      "execution_count": 9,
      "outputs": [
        {
          "output_type": "stream",
          "name": "stdout",
          "text": [
            "Accuracy:  0.7822822822822822\n",
            "ROC_AOC_Score:  0.7251117679464362\n"
          ]
        },
        {
          "output_type": "display_data",
          "data": {
            "text/plain": [
              "<Figure size 576x432 with 2 Axes>"
            ],
            "image/png": "[encoded data removed]"
          },
          "metadata": {
            "needs_background": "light"
          }
        }
      ]
    },
    {
      "cell_type": "code",
      "source": [
        "vect = CountVectorizer(preprocessor=clean, max_features=5000) \n",
        "X_train_dtm = vect.fit_transform(X_train) \n",
        "X_test_dtm = vect.transform(X_test)\n",
        "nb = MultinomialNB() \n",
        "%time nb.fit(X_train_dtm, y_train) \n",
        "y_pred_class = nb.predict(X_test_dtm) \n",
        "print(\"Accuracy: \", metrics.accuracy_score(y_test, y_pred_class))\n",
        "\n",
        "cnf_matrix = confusion_matrix(y_test, y_pred_class)\n",
        "plt.figure(figsize=(8,6))\n",
        "plot_confusion_matrix(cnf_matrix, classes=['Not Relevant','Relevant'],normalize=True,\n",
        "                      title='Confusion matrix with max 5000 features')"
      ],
      "metadata": {
        "colab": {
          "base_uri": "https://localhost:8080/",
          "height": 512
        },
        "id": "3hJAXmuExdRk",
        "outputId": "1fdfe9fc-a204-43f6-9ad2-49d7e76389df"
      },
      "execution_count": 10,
      "outputs": [
        {
          "output_type": "stream",
          "name": "stdout",
          "text": [
            "CPU times: user 6.52 ms, sys: 0 ns, total: 6.52 ms\n",
            "Wall time: 6.54 ms\n",
            "Accuracy:  0.6876876876876877\n"
          ]
        },
        {
          "output_type": "display_data",
          "data": {
            "text/plain": [
              "<Figure size 576x432 with 2 Axes>"
            ],
            "image/png": "[encoded data removed]"
          },
          "metadata": {
            "needs_background": "light"
          }
        }
      ]
    },
    {
      "cell_type": "code",
      "source": [
        "from sklearn.linear_model import LogisticRegression \n",
        "\n",
        "logreg = LogisticRegression(class_weight=\"balanced\") \n",
        "logreg.fit(X_train_dtm, y_train) \n",
        "\n",
        "\n",
        "y_pred_class = logreg.predict(X_test_dtm)\n",
        "\n",
        "\n",
        "print(\"Accuracy: \", accuracy_score(y_test, y_pred_class))\n",
        "print(\"AUC: \", roc_auc_score(y_test, y_pred_prob))\n",
        "cnf_matrix = confusion_matrix(y_test, y_pred_class)\n",
        "plt.figure(figsize=(8,6))\n",
        "plot_confusion_matrix(cnf_matrix, classes=['Not Relevant','Relevant'],normalize=True,\n",
        "                      title='Confusion matrix with normalization')"
      ],
      "metadata": {
        "colab": {
          "base_uri": "https://localhost:8080/",
          "height": 495
        },
        "id": "VzedP2LExjvR",
        "outputId": "923a132c-29b3-4a89-f0a1-1740aaa1bc18"
      },
      "execution_count": 11,
      "outputs": [
        {
          "output_type": "stream",
          "name": "stdout",
          "text": [
            "Accuracy:  0.7377377377377378\n",
            "AUC:  0.7251117679464362\n"
          ]
        },
        {
          "output_type": "display_data",
          "data": {
            "text/plain": [
              "<Figure size 576x432 with 2 Axes>"
            ],
            "image/png": "[encoded data removed]"
          },
          "metadata": {
            "needs_background": "light"
          }
        }
      ]
    },
    {
      "cell_type": "code",
      "source": [
        "from sklearn.svm import LinearSVC\n",
        "\n",
        "vect = CountVectorizer(preprocessor=clean, max_features=1000) \n",
        "X_train_dtm = vect.fit_transform(X_train) \n",
        "X_test_dtm = vect.transform(X_test)\n",
        "\n",
        "classifier = LinearSVC(class_weight='balanced') \n",
        "classifier.fit(X_train_dtm, y_train)\n",
        "\n",
        "\n",
        "y_pred_class = classifier.predict(X_test_dtm)\n",
        "\n",
        "\n",
        "print(\"Accuracy: \", accuracy_score(y_test, y_pred_class))\n",
        "print(\"AUC: \", roc_auc_score(y_test, y_pred_prob))\n",
        "cnf_matrix = confusion_matrix(y_test, y_pred_class)\n",
        "plt.figure(figsize=(8,6))\n",
        "plot_confusion_matrix(cnf_matrix, classes=['Not Relevant','Relevant'],normalize=True,\n",
        "                      title='Confusion matrix with normalization')"
      ],
      "metadata": {
        "colab": {
          "base_uri": "https://localhost:8080/",
          "height": 495
        },
        "id": "qjpqlE8FxrRq",
        "outputId": "ac624d83-763e-4552-fce5-8ddaad6b0cb1"
      },
      "execution_count": 12,
      "outputs": [
        {
          "output_type": "stream",
          "name": "stdout",
          "text": [
            "Accuracy:  0.6786786786786787\n",
            "AUC:  0.7251117679464362\n"
          ]
        },
        {
          "output_type": "display_data",
          "data": {
            "text/plain": [
              "<Figure size 576x432 with 2 Axes>"
            ],
            "image/png": "[encoded data removed]"
          },
          "metadata": {
            "needs_background": "light"
          }
        }
      ]
    }
  ]
}