{
  "nbformat": 4,
  "nbformat_minor": 0,
  "metadata": {
    "colab": {
      "name": "Weight Initialization DNN.ipynb",
      "provenance": [],
      "authorship_tag": "ABX9TyMb3Nlc7Lr4ksepOo3E2C/q",
      "include_colab_link": true
    },
    "kernelspec": {
      "name": "python3",
      "display_name": "Python 3"
    },
    "language_info": {
      "name": "python"
    },
    "accelerator": "GPU"
  },
  "cells": [
    {
      "cell_type": "markdown",
      "metadata": {
        "id": "view-in-github",
        "colab_type": "text"
      },
      "source": [
        "<a href=\"https://colab.research.google.com/github/KBVKarthik/Google-Colaboratory-Notebooks/blob/main/Weight_Initialization_DNN.ipynb\" target=\"_parent\"><img src=\"https://colab.research.google.com/assets/colab-badge.svg\" alt=\"Open In Colab\"/></a>"
      ]
    },
    {
      "cell_type": "code",
      "metadata": {
        "colab": {
          "base_uri": "https://localhost:8080/",
          "height": 265
        },
        "id": "CONaQ5XoH-tw",
        "outputId": "fb167e89-2bc8-44a5-9083-8710a562cd62"
      },
      "source": [
        "\n",
        "from math import sqrt\n",
        "from matplotlib import pyplot\n",
        "\n",
        "values = [i for i in range(1, 101)]\n",
        "\n",
        "results = [sqrt(2.0 / n) for n in values]\n",
        "\n",
        "pyplot.errorbar(values, [0.0 for _ in values], yerr=results)\n",
        "pyplot.show()"
      ],
      "execution_count": 11,
      "outputs": [
        {
          "output_type": "display_data",
          "data": {
            "image/png": "[encoded data removed]",
            "text/plain": [
              "<Figure size 432x288 with 1 Axes>"
            ]
          },
          "metadata": {
            "tags": [],
            "needs_background": "light"
          }
        }
      ]
    }
  ]
}