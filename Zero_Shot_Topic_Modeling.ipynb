{
  "nbformat": 4,
  "nbformat_minor": 0,
  "metadata": {
    "colab": {
      "name": "Zero Shot Topic Modeling.ipynb",
      "provenance": [],
      "authorship_tag": "ABX9TyMYMJjtfXA/kNrSW2Ij+0Cs",
      "include_colab_link": true
    },
    "kernelspec": {
      "name": "python3",
      "display_name": "Python 3"
    },
    "language_info": {
      "name": "python"
    },
    "accelerator": "GPU",
    "widgets": {
      "application/vnd.jupyter.widget-state+json": {
        "c488751bda5f4695858e7b3de87b5945": {
          "model_module": "@jupyter-widgets/controls",
          "model_name": "HBoxModel",
          "model_module_version": "1.5.0",
          "state": {
            "_view_name": "HBoxView",
            "_dom_classes": [],
            "_model_name": "HBoxModel",
            "_view_module": "@jupyter-widgets/controls",
            "_model_module_version": "1.5.0",
            "_view_count": null,
            "_view_module_version": "1.5.0",
            "box_style": "",
            "layout": "IPY_MODEL_d0f08762cfe841c8870dc74ae05ae932",
            "_model_module": "@jupyter-widgets/controls",
            "children": [
              "IPY_MODEL_206cadeed1264f8fbf1bc9ac57c790ba",
              "IPY_MODEL_555218191fe14d82b4f42ae2d5c6fe0b",
              "IPY_MODEL_9a49a0a601dd4217a72d49b90d420ecd"
            ]
          }
        },
        "d0f08762cfe841c8870dc74ae05ae932": {
          "model_module": "@jupyter-widgets/base",
          "model_name": "LayoutModel",
          "model_module_version": "1.2.0",
          "state": {
            "_view_name": "LayoutView",
            "grid_template_rows": null,
            "right": null,
            "justify_content": null,
            "_view_module": "@jupyter-widgets/base",
            "overflow": null,
            "_model_module_version": "1.2.0",
            "_view_count": null,
            "flex_flow": null,
            "width": null,
            "min_width": null,
            "border": null,
            "align_items": null,
            "bottom": null,
            "_model_module": "@jupyter-widgets/base",
            "top": null,
            "grid_column": null,
            "overflow_y": null,
            "overflow_x": null,
            "grid_auto_flow": null,
            "grid_area": null,
            "grid_template_columns": null,
            "flex": null,
            "_model_name": "LayoutModel",
            "justify_items": null,
            "grid_row": null,
            "max_height": null,
            "align_content": null,
            "visibility": null,
            "align_self": null,
            "height": null,
            "min_height": null,
            "padding": null,
            "grid_auto_rows": null,
            "grid_gap": null,
            "max_width": null,
            "order": null,
            "_view_module_version": "1.2.0",
            "grid_template_areas": null,
            "object_position": null,
            "object_fit": null,
            "grid_auto_columns": null,
            "margin": null,
            "display": null,
            "left": null
          }
        },
        "206cadeed1264f8fbf1bc9ac57c790ba": {
          "model_module": "@jupyter-widgets/controls",
          "model_name": "HTMLModel",
          "model_module_version": "1.5.0",
          "state": {
            "_view_name": "HTMLView",
            "style": "IPY_MODEL_7bf56a76fe6c4387ac8ff59ff1098a99",
            "_dom_classes": [],
            "description": "",
            "_model_name": "HTMLModel",
            "placeholder": "​",
            "_view_module": "@jupyter-widgets/controls",
            "_model_module_version": "1.5.0",
            "value": "Batches: 100%",
            "_view_count": null,
            "_view_module_version": "1.5.0",
            "description_tooltip": null,
            "_model_module": "@jupyter-widgets/controls",
            "layout": "IPY_MODEL_c9056ca1c5ed4beabbfe90d1b64417ca"
          }
        },
        "555218191fe14d82b4f42ae2d5c6fe0b": {
          "model_module": "@jupyter-widgets/controls",
          "model_name": "FloatProgressModel",
          "model_module_version": "1.5.0",
          "state": {
            "_view_name": "ProgressView",
            "style": "IPY_MODEL_2c27b62daf11463eb5fb534590b567b8",
            "_dom_classes": [],
            "description": "",
            "_model_name": "FloatProgressModel",
            "bar_style": "success",
            "max": 100,
            "_view_module": "@jupyter-widgets/controls",
            "_model_module_version": "1.5.0",
            "value": 100,
            "_view_count": null,
            "_view_module_version": "1.5.0",
            "orientation": "horizontal",
            "min": 0,
            "description_tooltip": null,
            "_model_module": "@jupyter-widgets/controls",
            "layout": "IPY_MODEL_474d479e2f72464fb7829fdf90a4e58e"
          }
        },
        "9a49a0a601dd4217a72d49b90d420ecd": {
          "model_module": "@jupyter-widgets/controls",
          "model_name": "HTMLModel",
          "model_module_version": "1.5.0",
          "state": {
            "_view_name": "HTMLView",
            "style": "IPY_MODEL_a06c8c62780f4ec2b2e61d4ae4ab11b8",
            "_dom_classes": [],
            "description": "",
            "_model_name": "HTMLModel",
            "placeholder": "​",
            "_view_module": "@jupyter-widgets/controls",
            "_model_module_version": "1.5.0",
            "value": " 100/100 [02:08&lt;00:00,  1.53s/it]",
            "_view_count": null,
            "_view_module_version": "1.5.0",
            "description_tooltip": null,
            "_model_module": "@jupyter-widgets/controls",
            "layout": "IPY_MODEL_8d8bf1282cb44813a7b159495bc988db"
          }
        },
        "7bf56a76fe6c4387ac8ff59ff1098a99": {
          "model_module": "@jupyter-widgets/controls",
          "model_name": "DescriptionStyleModel",
          "model_module_version": "1.5.0",
          "state": {
            "_view_name": "StyleView",
            "_model_name": "DescriptionStyleModel",
            "description_width": "",
            "_view_module": "@jupyter-widgets/base",
            "_model_module_version": "1.5.0",
            "_view_count": null,
            "_view_module_version": "1.2.0",
            "_model_module": "@jupyter-widgets/controls"
          }
        },
        "c9056ca1c5ed4beabbfe90d1b64417ca": {
          "model_module": "@jupyter-widgets/base",
          "model_name": "LayoutModel",
          "model_module_version": "1.2.0",
          "state": {
            "_view_name": "LayoutView",
            "grid_template_rows": null,
            "right": null,
            "justify_content": null,
            "_view_module": "@jupyter-widgets/base",
            "overflow": null,
            "_model_module_version": "1.2.0",
            "_view_count": null,
            "flex_flow": null,
            "width": null,
            "min_width": null,
            "border": null,
            "align_items": null,
            "bottom": null,
            "_model_module": "@jupyter-widgets/base",
            "top": null,
            "grid_column": null,
            "overflow_y": null,
            "overflow_x": null,
            "grid_auto_flow": null,
            "grid_area": null,
            "grid_template_columns": null,
            "flex": null,
            "_model_name": "LayoutModel",
            "justify_items": null,
            "grid_row": null,
            "max_height": null,
            "align_content": null,
            "visibility": null,
            "align_self": null,
            "height": null,
            "min_height": null,
            "padding": null,
            "grid_auto_rows": null,
            "grid_gap": null,
            "max_width": null,
            "order": null,
            "_view_module_version": "1.2.0",
            "grid_template_areas": null,
            "object_position": null,
            "object_fit": null,
            "grid_auto_columns": null,
            "margin": null,
            "display": null,
            "left": null
          }
        },
        "2c27b62daf11463eb5fb534590b567b8": {
          "model_module": "@jupyter-widgets/controls",
          "model_name": "ProgressStyleModel",
          "model_module_version": "1.5.0",
          "state": {
            "_view_name": "StyleView",
            "_model_name": "ProgressStyleModel",
            "description_width": "",
            "_view_module": "@jupyter-widgets/base",
            "_model_module_version": "1.5.0",
            "_view_count": null,
            "_view_module_version": "1.2.0",
            "bar_color": null,
            "_model_module": "@jupyter-widgets/controls"
          }
        },
        "474d479e2f72464fb7829fdf90a4e58e": {
          "model_module": "@jupyter-widgets/base",
          "model_name": "LayoutModel",
          "model_module_version": "1.2.0",
          "state": {
            "_view_name": "LayoutView",
            "grid_template_rows": null,
            "right": null,
            "justify_content": null,
            "_view_module": "@jupyter-widgets/base",
            "overflow": null,
            "_model_module_version": "1.2.0",
            "_view_count": null,
            "flex_flow": null,
            "width": null,
            "min_width": null,
            "border": null,
            "align_items": null,
            "bottom": null,
            "_model_module": "@jupyter-widgets/base",
            "top": null,
            "grid_column": null,
            "overflow_y": null,
            "overflow_x": null,
            "grid_auto_flow": null,
            "grid_area": null,
            "grid_template_columns": null,
            "flex": null,
            "_model_name": "LayoutModel",
            "justify_items": null,
            "grid_row": null,
            "max_height": null,
            "align_content": null,
            "visibility": null,
            "align_self": null,
            "height": null,
            "min_height": null,
            "padding": null,
            "grid_auto_rows": null,
            "grid_gap": null,
            "max_width": null,
            "order": null,
            "_view_module_version": "1.2.0",
            "grid_template_areas": null,
            "object_position": null,
            "object_fit": null,
            "grid_auto_columns": null,
            "margin": null,
            "display": null,
            "left": null
          }
        },
        "a06c8c62780f4ec2b2e61d4ae4ab11b8": {
          "model_module": "@jupyter-widgets/controls",
          "model_name": "DescriptionStyleModel",
          "model_module_version": "1.5.0",
          "state": {
            "_view_name": "StyleView",
            "_model_name": "DescriptionStyleModel",
            "description_width": "",
            "_view_module": "@jupyter-widgets/base",
            "_model_module_version": "1.5.0",
            "_view_count": null,
            "_view_module_version": "1.2.0",
            "_model_module": "@jupyter-widgets/controls"
          }
        },
        "8d8bf1282cb44813a7b159495bc988db": {
          "model_module": "@jupyter-widgets/base",
          "model_name": "LayoutModel",
          "model_module_version": "1.2.0",
          "state": {
            "_view_name": "LayoutView",
            "grid_template_rows": null,
            "right": null,
            "justify_content": null,
            "_view_module": "@jupyter-widgets/base",
            "overflow": null,
            "_model_module_version": "1.2.0",
            "_view_count": null,
            "flex_flow": null,
            "width": null,
            "min_width": null,
            "border": null,
            "align_items": null,
            "bottom": null,
            "_model_module": "@jupyter-widgets/base",
            "top": null,
            "grid_column": null,
            "overflow_y": null,
            "overflow_x": null,
            "grid_auto_flow": null,
            "grid_area": null,
            "grid_template_columns": null,
            "flex": null,
            "_model_name": "LayoutModel",
            "justify_items": null,
            "grid_row": null,
            "max_height": null,
            "align_content": null,
            "visibility": null,
            "align_self": null,
            "height": null,
            "min_height": null,
            "padding": null,
            "grid_auto_rows": null,
            "grid_gap": null,
            "max_width": null,
            "order": null,
            "_view_module_version": "1.2.0",
            "grid_template_areas": null,
            "object_position": null,
            "object_fit": null,
            "grid_auto_columns": null,
            "margin": null,
            "display": null,
            "left": null
          }
        },
        "999b127cd39149e2b60bda2a06cf0c96": {
          "model_module": "@jupyter-widgets/controls",
          "model_name": "HBoxModel",
          "model_module_version": "1.5.0",
          "state": {
            "_view_name": "HBoxView",
            "_dom_classes": [],
            "_model_name": "HBoxModel",
            "_view_module": "@jupyter-widgets/controls",
            "_model_module_version": "1.5.0",
            "_view_count": null,
            "_view_module_version": "1.5.0",
            "box_style": "",
            "layout": "IPY_MODEL_97a913d23e444fc685b6067ad13dd340",
            "_model_module": "@jupyter-widgets/controls",
            "children": [
              "IPY_MODEL_43fcfd8bef6541c4996e78dc4bd2e0a3",
              "IPY_MODEL_3cf7e0dc34a943c1a1e33c887ffeb541",
              "IPY_MODEL_8cb518056bf04f5b8b3611413f4e8ed4"
            ]
          }
        },
        "97a913d23e444fc685b6067ad13dd340": {
          "model_module": "@jupyter-widgets/base",
          "model_name": "LayoutModel",
          "model_module_version": "1.2.0",
          "state": {
            "_view_name": "LayoutView",
            "grid_template_rows": null,
            "right": null,
            "justify_content": null,
            "_view_module": "@jupyter-widgets/base",
            "overflow": null,
            "_model_module_version": "1.2.0",
            "_view_count": null,
            "flex_flow": null,
            "width": null,
            "min_width": null,
            "border": null,
            "align_items": null,
            "bottom": null,
            "_model_module": "@jupyter-widgets/base",
            "top": null,
            "grid_column": null,
            "overflow_y": null,
            "overflow_x": null,
            "grid_auto_flow": null,
            "grid_area": null,
            "grid_template_columns": null,
            "flex": null,
            "_model_name": "LayoutModel",
            "justify_items": null,
            "grid_row": null,
            "max_height": null,
            "align_content": null,
            "visibility": null,
            "align_self": null,
            "height": null,
            "min_height": null,
            "padding": null,
            "grid_auto_rows": null,
            "grid_gap": null,
            "max_width": null,
            "order": null,
            "_view_module_version": "1.2.0",
            "grid_template_areas": null,
            "object_position": null,
            "object_fit": null,
            "grid_auto_columns": null,
            "margin": null,
            "display": null,
            "left": null
          }
        },
        "43fcfd8bef6541c4996e78dc4bd2e0a3": {
          "model_module": "@jupyter-widgets/controls",
          "model_name": "HTMLModel",
          "model_module_version": "1.5.0",
          "state": {
            "_view_name": "HTMLView",
            "style": "IPY_MODEL_f2df24b324944460b168d830fb5af090",
            "_dom_classes": [],
            "description": "",
            "_model_name": "HTMLModel",
            "placeholder": "​",
            "_view_module": "@jupyter-widgets/controls",
            "_model_module_version": "1.5.0",
            "value": "Batches: 100%",
            "_view_count": null,
            "_view_module_version": "1.5.0",
            "description_tooltip": null,
            "_model_module": "@jupyter-widgets/controls",
            "layout": "IPY_MODEL_f675afdda6934d96bd32b45f0828a2f9"
          }
        },
        "3cf7e0dc34a943c1a1e33c887ffeb541": {
          "model_module": "@jupyter-widgets/controls",
          "model_name": "FloatProgressModel",
          "model_module_version": "1.5.0",
          "state": {
            "_view_name": "ProgressView",
            "style": "IPY_MODEL_45ee45cf17564f8f8f37a975ffed5f1b",
            "_dom_classes": [],
            "description": "",
            "_model_name": "FloatProgressModel",
            "bar_style": "success",
            "max": 1,
            "_view_module": "@jupyter-widgets/controls",
            "_model_module_version": "1.5.0",
            "value": 1,
            "_view_count": null,
            "_view_module_version": "1.5.0",
            "orientation": "horizontal",
            "min": 0,
            "description_tooltip": null,
            "_model_module": "@jupyter-widgets/controls",
            "layout": "IPY_MODEL_0866458cf5fc4892828d31809b9dc66e"
          }
        },
        "8cb518056bf04f5b8b3611413f4e8ed4": {
          "model_module": "@jupyter-widgets/controls",
          "model_name": "HTMLModel",
          "model_module_version": "1.5.0",
          "state": {
            "_view_name": "HTMLView",
            "style": "IPY_MODEL_0911197728394050bdad5624ca7eb9b7",
            "_dom_classes": [],
            "description": "",
            "_model_name": "HTMLModel",
            "placeholder": "​",
            "_view_module": "@jupyter-widgets/controls",
            "_model_module_version": "1.5.0",
            "value": " 1/1 [00:00&lt;00:00, 10.06it/s]",
            "_view_count": null,
            "_view_module_version": "1.5.0",
            "description_tooltip": null,
            "_model_module": "@jupyter-widgets/controls",
            "layout": "IPY_MODEL_d36fcf9a08ff4b8f8840070628c22186"
          }
        },
        "f2df24b324944460b168d830fb5af090": {
          "model_module": "@jupyter-widgets/controls",
          "model_name": "DescriptionStyleModel",
          "model_module_version": "1.5.0",
          "state": {
            "_view_name": "StyleView",
            "_model_name": "DescriptionStyleModel",
            "description_width": "",
            "_view_module": "@jupyter-widgets/base",
            "_model_module_version": "1.5.0",
            "_view_count": null,
            "_view_module_version": "1.2.0",
            "_model_module": "@jupyter-widgets/controls"
          }
        },
        "f675afdda6934d96bd32b45f0828a2f9": {
          "model_module": "@jupyter-widgets/base",
          "model_name": "LayoutModel",
          "model_module_version": "1.2.0",
          "state": {
            "_view_name": "LayoutView",
            "grid_template_rows": null,
            "right": null,
            "justify_content": null,
            "_view_module": "@jupyter-widgets/base",
            "overflow": null,
            "_model_module_version": "1.2.0",
            "_view_count": null,
            "flex_flow": null,
            "width": null,
            "min_width": null,
            "border": null,
            "align_items": null,
            "bottom": null,
            "_model_module": "@jupyter-widgets/base",
            "top": null,
            "grid_column": null,
            "overflow_y": null,
            "overflow_x": null,
            "grid_auto_flow": null,
            "grid_area": null,
            "grid_template_columns": null,
            "flex": null,
            "_model_name": "LayoutModel",
            "justify_items": null,
            "grid_row": null,
            "max_height": null,
            "align_content": null,
            "visibility": null,
            "align_self": null,
            "height": null,
            "min_height": null,
            "padding": null,
            "grid_auto_rows": null,
            "grid_gap": null,
            "max_width": null,
            "order": null,
            "_view_module_version": "1.2.0",
            "grid_template_areas": null,
            "object_position": null,
            "object_fit": null,
            "grid_auto_columns": null,
            "margin": null,
            "display": null,
            "left": null
          }
        },
        "45ee45cf17564f8f8f37a975ffed5f1b": {
          "model_module": "@jupyter-widgets/controls",
          "model_name": "ProgressStyleModel",
          "model_module_version": "1.5.0",
          "state": {
            "_view_name": "StyleView",
            "_model_name": "ProgressStyleModel",
            "description_width": "",
            "_view_module": "@jupyter-widgets/base",
            "_model_module_version": "1.5.0",
            "_view_count": null,
            "_view_module_version": "1.2.0",
            "bar_color": null,
            "_model_module": "@jupyter-widgets/controls"
          }
        },
        "0866458cf5fc4892828d31809b9dc66e": {
          "model_module": "@jupyter-widgets/base",
          "model_name": "LayoutModel",
          "model_module_version": "1.2.0",
          "state": {
            "_view_name": "LayoutView",
            "grid_template_rows": null,
            "right": null,
            "justify_content": null,
            "_view_module": "@jupyter-widgets/base",
            "overflow": null,
            "_model_module_version": "1.2.0",
            "_view_count": null,
            "flex_flow": null,
            "width": null,
            "min_width": null,
            "border": null,
            "align_items": null,
            "bottom": null,
            "_model_module": "@jupyter-widgets/base",
            "top": null,
            "grid_column": null,
            "overflow_y": null,
            "overflow_x": null,
            "grid_auto_flow": null,
            "grid_area": null,
            "grid_template_columns": null,
            "flex": null,
            "_model_name": "LayoutModel",
            "justify_items": null,
            "grid_row": null,
            "max_height": null,
            "align_content": null,
            "visibility": null,
            "align_self": null,
            "height": null,
            "min_height": null,
            "padding": null,
            "grid_auto_rows": null,
            "grid_gap": null,
            "max_width": null,
            "order": null,
            "_view_module_version": "1.2.0",
            "grid_template_areas": null,
            "object_position": null,
            "object_fit": null,
            "grid_auto_columns": null,
            "margin": null,
            "display": null,
            "left": null
          }
        },
        "0911197728394050bdad5624ca7eb9b7": {
          "model_module": "@jupyter-widgets/controls",
          "model_name": "DescriptionStyleModel",
          "model_module_version": "1.5.0",
          "state": {
            "_view_name": "StyleView",
            "_model_name": "DescriptionStyleModel",
            "description_width": "",
            "_view_module": "@jupyter-widgets/base",
            "_model_module_version": "1.5.0",
            "_view_count": null,
            "_view_module_version": "1.2.0",
            "_model_module": "@jupyter-widgets/controls"
          }
        },
        "d36fcf9a08ff4b8f8840070628c22186": {
          "model_module": "@jupyter-widgets/base",
          "model_name": "LayoutModel",
          "model_module_version": "1.2.0",
          "state": {
            "_view_name": "LayoutView",
            "grid_template_rows": null,
            "right": null,
            "justify_content": null,
            "_view_module": "@jupyter-widgets/base",
            "overflow": null,
            "_model_module_version": "1.2.0",
            "_view_count": null,
            "flex_flow": null,
            "width": null,
            "min_width": null,
            "border": null,
            "align_items": null,
            "bottom": null,
            "_model_module": "@jupyter-widgets/base",
            "top": null,
            "grid_column": null,
            "overflow_y": null,
            "overflow_x": null,
            "grid_auto_flow": null,
            "grid_area": null,
            "grid_template_columns": null,
            "flex": null,
            "_model_name": "LayoutModel",
            "justify_items": null,
            "grid_row": null,
            "max_height": null,
            "align_content": null,
            "visibility": null,
            "align_self": null,
            "height": null,
            "min_height": null,
            "padding": null,
            "grid_auto_rows": null,
            "grid_gap": null,
            "max_width": null,
            "order": null,
            "_view_module_version": "1.2.0",
            "grid_template_areas": null,
            "object_position": null,
            "object_fit": null,
            "grid_auto_columns": null,
            "margin": null,
            "display": null,
            "left": null
          }
        }
      }
    }
  },
  "cells": [
    {
      "cell_type": "markdown",
      "metadata": {
        "id": "view-in-github",
        "colab_type": "text"
      },
      "source": [
        "<a href=\"https://colab.research.google.com/github/KBVKarthik/Google-Colaboratory-Notebooks/blob/main/Zero_Shot_Topic_Modeling.ipynb\" target=\"_parent\"><img src=\"https://colab.research.google.com/assets/colab-badge.svg\" alt=\"Open In Colab\"/></a>"
      ]
    },
    {
      "cell_type": "code",
      "source": [
        "%%capture\n",
        "!pip install contextualized-topic-models\n",
        "!pip install torch==1.6.0+cu101 torchvision==0.7.0+cu101 -f https://download.pytorch.org/whl/torch_stable.html\n",
        "!pip install -U tqdm"
      ],
      "metadata": {
        "id": "6iKjSLbAOC2x"
      },
      "execution_count": 1,
      "outputs": []
    },
    {
      "cell_type": "code",
      "source": [
        "!wget https://raw.githubusercontent.com/vinid/data/master/dbpedia_sample_abstract_20k_unprep.txt"
      ],
      "metadata": {
        "colab": {
          "base_uri": "https://localhost:8080/"
        },
        "id": "-l4ztx61OKd5",
        "outputId": "fc253936-0191-463c-ce90-239d051358b6"
      },
      "execution_count": 2,
      "outputs": [
        {
          "output_type": "stream",
          "name": "stdout",
          "text": [
            "--2022-03-09 10:28:32--  https://raw.githubusercontent.com/vinid/data/master/dbpedia_sample_abstract_20k_unprep.txt\n",
            "Resolving raw.githubusercontent.com (raw.githubusercontent.com)... 185.199.108.133, 185.199.110.133, 185.199.109.133, ...\n",
            "Connecting to raw.githubusercontent.com (raw.githubusercontent.com)|185.199.108.133|:443... connected.\n",
            "HTTP request sent, awaiting response... 200 OK\n",
            "Length: 6208417 (5.9M) [text/plain]\n",
            "Saving to: ‘dbpedia_sample_abstract_20k_unprep.txt.1’\n",
            "\n",
            "dbpedia_sample_abst 100%[===================>]   5.92M  --.-KB/s    in 0.08s   \n",
            "\n",
            "2022-03-09 10:28:32 (77.1 MB/s) - ‘dbpedia_sample_abstract_20k_unprep.txt.1’ saved [6208417/6208417]\n",
            "\n"
          ]
        }
      ]
    },
    {
      "cell_type": "code",
      "source": [
        "!head -n 1 dbpedia_sample_abstract_20k_unprep.txt"
      ],
      "metadata": {
        "colab": {
          "base_uri": "https://localhost:8080/"
        },
        "id": "00lMPHI-OM1J",
        "outputId": "23701f8a-3d6b-4514-a65c-f73e8bd5c70b"
      },
      "execution_count": 3,
      "outputs": [
        {
          "output_type": "stream",
          "name": "stdout",
          "text": [
            "The Mid-Peninsula Highway is a proposed freeway across the Niagara Peninsula in the Canadian province of Ontario. Although plans for a highway connecting Hamilton to Fort Erie south of the Niagara Escarpment have surfaced for decades,it was not until The Niagara Frontier International Gateway Study was published by the Ministry\n"
          ]
        }
      ]
    },
    {
      "cell_type": "code",
      "source": [
        "text_file = \"dbpedia_sample_abstract_20k_unprep.txt\""
      ],
      "metadata": {
        "id": "u83wkeG9OOpB"
      },
      "execution_count": 4,
      "outputs": []
    },
    {
      "cell_type": "code",
      "source": [
        "from contextualized_topic_models.models.ctm import ZeroShotTM\n",
        "from contextualized_topic_models.utils.data_preparation import TopicModelDataPreparation\n",
        "from contextualized_topic_models.utils.preprocessing import WhiteSpacePreprocessing\n",
        "import nltk"
      ],
      "metadata": {
        "id": "P3CqcEYFOT9Z"
      },
      "execution_count": 5,
      "outputs": []
    },
    {
      "cell_type": "code",
      "source": [
        "nltk.download('stopwords')\n",
        "\n",
        "documents = [line.strip() for line in open(text_file, encoding=\"utf-8\").readlines()]\n",
        "sp = WhiteSpacePreprocessing(documents, stopwords_language='english')\n",
        "preprocessed_documents, unpreprocessed_corpus, vocab = sp.preprocess()"
      ],
      "metadata": {
        "colab": {
          "base_uri": "https://localhost:8080/"
        },
        "id": "iTtNsIKJOVmx",
        "outputId": "1f9fb0af-bb8c-4218-bfb3-c74717d770e7"
      },
      "execution_count": 6,
      "outputs": [
        {
          "output_type": "stream",
          "name": "stdout",
          "text": [
            "[nltk_data] Downloading package stopwords to /root/nltk_data...\n",
            "[nltk_data]   Unzipping corpora/stopwords.zip.\n"
          ]
        },
        {
          "output_type": "stream",
          "name": "stderr",
          "text": [
            "/usr/local/lib/python3.7/dist-packages/sklearn/utils/deprecation.py:87: FutureWarning: Function get_feature_names is deprecated; get_feature_names is deprecated in 1.0 and will be removed in 1.2. Please use get_feature_names_out instead.\n",
            "  warnings.warn(msg, category=FutureWarning)\n"
          ]
        }
      ]
    },
    {
      "cell_type": "code",
      "source": [
        "preprocessed_documents[:2]"
      ],
      "metadata": {
        "colab": {
          "base_uri": "https://localhost:8080/"
        },
        "id": "7pIwUQT4OXrp",
        "outputId": "d0a7e6f7-47d7-46a2-c564-2ecd88fed1a3"
      },
      "execution_count": 7,
      "outputs": [
        {
          "output_type": "execute_result",
          "data": {
            "text/plain": [
              "['mid peninsula highway proposed across peninsula canadian province ontario although highway connecting hamilton fort south international study published ministry',\n",
              " 'died march american photographer specialized photography operated studio silver spring maryland later lived florida magazine photographer year']"
            ]
          },
          "metadata": {},
          "execution_count": 7
        }
      ]
    },
    {
      "cell_type": "code",
      "source": [
        "tp = TopicModelDataPreparation(\"distiluse-base-multilingual-cased\")\n",
        "\n",
        "training_dataset = tp.create_training_set(text_for_contextual=unpreprocessed_corpus, text_for_bow=preprocessed_documents)"
      ],
      "metadata": {
        "colab": {
          "base_uri": "https://localhost:8080/",
          "height": 121,
          "referenced_widgets": [
            "c488751bda5f4695858e7b3de87b5945",
            "d0f08762cfe841c8870dc74ae05ae932",
            "206cadeed1264f8fbf1bc9ac57c790ba",
            "555218191fe14d82b4f42ae2d5c6fe0b",
            "9a49a0a601dd4217a72d49b90d420ecd",
            "7bf56a76fe6c4387ac8ff59ff1098a99",
            "c9056ca1c5ed4beabbfe90d1b64417ca",
            "2c27b62daf11463eb5fb534590b567b8",
            "474d479e2f72464fb7829fdf90a4e58e",
            "a06c8c62780f4ec2b2e61d4ae4ab11b8",
            "8d8bf1282cb44813a7b159495bc988db"
          ]
        },
        "id": "7GTR9bg_OaGZ",
        "outputId": "949b934e-0870-46a2-ec63-9725823bacf4"
      },
      "execution_count": 8,
      "outputs": [
        {
          "output_type": "stream",
          "name": "stderr",
          "text": [
            "100%|██████████| 504M/504M [00:38<00:00, 13.0MB/s]\n"
          ]
        },
        {
          "output_type": "display_data",
          "data": {
            "application/vnd.jupyter.widget-view+json": {
              "model_id": "c488751bda5f4695858e7b3de87b5945",
              "version_minor": 0,
              "version_major": 2
            },
            "text/plain": [
              "Batches:   0%|          | 0/100 [00:00<?, ?it/s]"
            ]
          },
          "metadata": {}
        },
        {
          "output_type": "stream",
          "name": "stderr",
          "text": [
            "/usr/local/lib/python3.7/dist-packages/sklearn/utils/deprecation.py:87: FutureWarning: Function get_feature_names is deprecated; get_feature_names is deprecated in 1.0 and will be removed in 1.2. Please use get_feature_names_out instead.\n",
            "  warnings.warn(msg, category=FutureWarning)\n"
          ]
        }
      ]
    },
    {
      "cell_type": "code",
      "source": [
        "tp.vocab[:10]"
      ],
      "metadata": {
        "colab": {
          "base_uri": "https://localhost:8080/"
        },
        "id": "GNpKMt4rOcwR",
        "outputId": "f6000bd3-f577-4f11-f32e-0311d4b2a08c"
      },
      "execution_count": 9,
      "outputs": [
        {
          "output_type": "execute_result",
          "data": {
            "text/plain": [
              "['abbreviated',\n",
              " 'academic',\n",
              " 'academy',\n",
              " 'access',\n",
              " 'according',\n",
              " 'achieved',\n",
              " 'acquired',\n",
              " 'acre',\n",
              " 'acres',\n",
              " 'across']"
            ]
          },
          "metadata": {},
          "execution_count": 9
        }
      ]
    },
    {
      "cell_type": "code",
      "source": [
        "ctm = ZeroShotTM(input_size=len(tp.vocab), bert_input_size=512, n_components=50, num_epochs=15)\n",
        "ctm.fit(training_dataset)"
      ],
      "metadata": {
        "colab": {
          "base_uri": "https://localhost:8080/"
        },
        "id": "flTymqr8OfBC",
        "outputId": "f5000462-3a3b-446a-b4c5-e3d106255cc7"
      },
      "execution_count": 10,
      "outputs": [
        {
          "output_type": "stream",
          "name": "stderr",
          "text": [
            "Epoch: [15/15]\t Seen Samples: [300000/300000]\tTrain Loss: 138.7840030029297\tTime: 0:00:10.130738: : 15it [02:33, 10.22s/it]\n"
          ]
        }
      ]
    },
    {
      "cell_type": "code",
      "source": [
        "ctm.get_topic_lists(5)"
      ],
      "metadata": {
        "colab": {
          "base_uri": "https://localhost:8080/"
        },
        "id": "12mP19YhOg8J",
        "outputId": "b1224602-9963-4ce3-a58e-47161f7c893a"
      },
      "execution_count": 11,
      "outputs": [
        {
          "output_type": "execute_result",
          "data": {
            "text/plain": [
              "[['born', 'american', 'former', 'new', 'university'],\n",
              " ['family', 'found', 'native', 'species', 'genus'],\n",
              " ['member', 'politician', 'party', 'born', 'november'],\n",
              " ['company', 'software', 'based', 'system', 'products'],\n",
              " ['family', 'found', 'species', 'native', 'mm'],\n",
              " ['world', 'born', 'olympics', 'summer', 'competed'],\n",
              " ['king', 'century', 'son', 'roman', 'greek'],\n",
              " ['played', 'league', 'football', 'season', 'team'],\n",
              " ['river', 'island', 'bridge', 'peak', 'line'],\n",
              " ['film', 'directed', 'series', 'written', 'produced'],\n",
              " ['world', 'born', 'held', 'event', 'tournament'],\n",
              " ['played', 'league', 'football', 'born', 'professional'],\n",
              " ['born', 'known', 'best', 'english', 'composer'],\n",
              " ['term', 'used', 'theory', 'usually', 'type'],\n",
              " ['company', 'founded', 'organization', 'based', 'service'],\n",
              " ['north', 'west', 'south', 'km', 'mi'],\n",
              " ['house', 'built', 'story', 'historic', 'located'],\n",
              " ['system', 'used', 'usually', 'systems', 'use'],\n",
              " ['album', 'released', 'band', 'rock', 'studio'],\n",
              " ['league', 'cup', 'world', 'team', 'club'],\n",
              " ['county', 'state', 'population', 'town', 'states'],\n",
              " ['season', 'football', 'team', 'league', 'club'],\n",
              " ['family', 'genus', 'found', 'plant', 'species'],\n",
              " ['war', 'served', 'army', 'politician', 'british'],\n",
              " ['located', 'county', 'states', 'united', 'town'],\n",
              " ['town', 'population', 'province', 'district', 'municipality'],\n",
              " ['used', 'use', 'computer', 'software', 'allows'],\n",
              " ['film', 'best', 'american', 'directed', 'films'],\n",
              " ['war', 'british', 'ii', 'navy', 'french'],\n",
              " ['american', 'born', 'music', 'known', 'york'],\n",
              " ['party', 'member', 'election', 'council', 'government'],\n",
              " ['school', 'located', 'college', 'high', 'students'],\n",
              " ['used', 'either', 'enzyme', 'means', 'often'],\n",
              " ['film', 'directed', 'written', 'series', 'produced'],\n",
              " ['game', 'series', 'video', 'released', 'television'],\n",
              " ['university', 'research', 'professor', 'science', 'education'],\n",
              " ['album', 'released', 'band', 'records', 'game'],\n",
              " ['village', 'mi', 'district', 'km', 'east'],\n",
              " ['french', 'published', 'writer', 'work', 'war'],\n",
              " ['school', 'high', 'college', 'public', 'schools'],\n",
              " ['district', 'mi', 'village', 'population', 'km'],\n",
              " ['world', 'born', 'played', 'championship', 'international'],\n",
              " ['river', 'island', 'range', 'region', 'islands'],\n",
              " ['built', 'building', 'church', 'station', 'located'],\n",
              " ['american', 'music', 'band', 'radio', 'television'],\n",
              " ['university', 'professor', 'president', 'director', 'served'],\n",
              " ['located', 'city', 'station', 'railway', 'river'],\n",
              " ['type', 'used', 'gene', 'enzyme', 'different'],\n",
              " ['football', 'team', 'played', 'college', 'university'],\n",
              " ['station', 'railway', 'radio', 'company', 'line']]"
            ]
          },
          "metadata": {},
          "execution_count": 11
        }
      ]
    },
    {
      "cell_type": "code",
      "source": [
        "topics_predictions = ctm.get_thetas(training_dataset, n_samples=5)"
      ],
      "metadata": {
        "colab": {
          "base_uri": "https://localhost:8080/"
        },
        "id": "b7RUaezdOjZR",
        "outputId": "6979d20c-6100-453e-d07d-6040fc8a746a"
      },
      "execution_count": 12,
      "outputs": [
        {
          "output_type": "stream",
          "name": "stderr",
          "text": [
            "/usr/local/lib/python3.7/dist-packages/contextualized_topic_models/models/ctm.py:257: DeprecationWarning: Call to `get_thetas` is deprecated and will be removed in version 2, use `get_doc_topic_distribution` instead\n",
            "  DeprecationWarning)\n",
            "Sampling: [5/5]: : 5it [00:41,  8.32s/it]\n"
          ]
        }
      ]
    },
    {
      "cell_type": "code",
      "source": [
        "preprocessed_documents[0]"
      ],
      "metadata": {
        "colab": {
          "base_uri": "https://localhost:8080/",
          "height": 53
        },
        "id": "LvAc3NOUOmyB",
        "outputId": "fe2036dc-7baa-40d1-c869-a28a0041e561"
      },
      "execution_count": 13,
      "outputs": [
        {
          "output_type": "execute_result",
          "data": {
            "application/vnd.google.colaboratory.intrinsic+json": {
              "type": "string"
            },
            "text/plain": [
              "'mid peninsula highway proposed across peninsula canadian province ontario although highway connecting hamilton fort south international study published ministry'"
            ]
          },
          "metadata": {},
          "execution_count": 13
        }
      ]
    },
    {
      "cell_type": "code",
      "source": [
        "import numpy as np\n",
        "topic_number = np.argmax(topics_predictions[0])"
      ],
      "metadata": {
        "id": "SY0o30QpOpGZ"
      },
      "execution_count": 14,
      "outputs": []
    },
    {
      "cell_type": "code",
      "source": [
        "ctm.get_topic_lists(5)[topic_number]"
      ],
      "metadata": {
        "colab": {
          "base_uri": "https://localhost:8080/"
        },
        "id": "F_QUoTU6OrFJ",
        "outputId": "caf404cf-d4e6-4636-bf89-3f504d8c00c4"
      },
      "execution_count": 15,
      "outputs": [
        {
          "output_type": "execute_result",
          "data": {
            "text/plain": [
              "['river', 'island', 'bridge', 'peak', 'line']"
            ]
          },
          "metadata": {},
          "execution_count": 15
        }
      ]
    },
    {
      "cell_type": "code",
      "source": [
        "!wget https://raw.githubusercontent.com/vinid/data/master/italian_documents.txt"
      ],
      "metadata": {
        "colab": {
          "base_uri": "https://localhost:8080/"
        },
        "id": "fh1O81b0OtDR",
        "outputId": "cfe829d4-8599-43a3-e059-de1723e26fa7"
      },
      "execution_count": 16,
      "outputs": [
        {
          "output_type": "stream",
          "name": "stdout",
          "text": [
            "--2022-03-09 10:35:53--  https://raw.githubusercontent.com/vinid/data/master/italian_documents.txt\n",
            "Resolving raw.githubusercontent.com (raw.githubusercontent.com)... 185.199.108.133, 185.199.109.133, 185.199.110.133, ...\n",
            "Connecting to raw.githubusercontent.com (raw.githubusercontent.com)|185.199.108.133|:443... connected.\n",
            "HTTP request sent, awaiting response... 200 OK\n",
            "Length: 7122 (7.0K) [text/plain]\n",
            "Saving to: ‘italian_documents.txt’\n",
            "\n",
            "\ritalian_documents.t   0%[                    ]       0  --.-KB/s               \ritalian_documents.t 100%[===================>]   6.96K  --.-KB/s    in 0s      \n",
            "\n",
            "2022-03-09 10:35:53 (58.4 MB/s) - ‘italian_documents.txt’ saved [7122/7122]\n",
            "\n"
          ]
        }
      ]
    },
    {
      "cell_type": "code",
      "source": [
        "italian_documents = [line.strip() for line in open(\"italian_documents.txt\", 'r').readlines()]\n",
        "italian_documents"
      ],
      "metadata": {
        "colab": {
          "base_uri": "https://localhost:8080/"
        },
        "id": "RBpvhsUpOuxr",
        "outputId": "d8751633-23cf-48b6-9243-e19c9ecacd55"
      },
      "execution_count": 17,
      "outputs": [
        {
          "output_type": "execute_result",
          "data": {
            "text/plain": [
              "['Fu l\\'ispiratore e uno dei fondatori della rivista \"Dau al Set\" e dell\\'omonimo gruppo artistico ed intellettuale catalano (1948). È ritenuto il massimo esponente della poesia visiva non solo della letteratura catalana, ma il pioniere di questo genere in Spagna e uno dei grandi riferimenti internazionali. La totalità della sua opera creativa lo segnala come uno degli autori più prolifici della cultura occidentale contemporanea. Sebbene schierato nell\\'avanguardia della poesia della prima metà del XX secolo (esplorò validamente l\\'ipnagogia, il surrealismo e il dadaismo), si esercitò alla scrittura di centinaia di sonetti, odi saffiche e sestine liriche dalla totale perfezione formale alla sperimentazione più estrema, nonché migliaia di poemi in forma libera. In vita pubblicò un\\'ottantina di libri lasciandone parecchi d\\'inediti. Il suo lavoro letterario comprendeva tutti i generi: poesia, prosa, teatro (la sua cosiddetta \"poesia scenica\", oltre 350 opere), cinema, musica, cabaret, performance, arti parateatrali, prestidigitazione, circo. Le sue opere sono state scritte senza eccezioni in lingua catalana. Secondo lui, la forma era prioritaria nei confronti del contenuto, quindi la sua poesia prese spesso l\\'aspetto di gioco con le parole, anzi con le singole lettere, sempre con acuto senso dell\\'umorismo. Ciò non escludeva, però, il forte impegno politico e sociale del suo messaggio artistico nonché il testimonio patriottico catalano. L\\'opera di Brossa, sia lirica che plastica, è sempre collegata alla visualità. La sua letteratura è imbevuta di uno spirito visivo, quasi fotografico, della realtà che deve essere scoperto e rielaborato dal lettore/spettatore secondo i propri atteggiamenti. La comunicazione è quindi contrapposta alla semplice espressione dell\\'artista, il quale deve assumere un ruolo di esca per le potenzialità di ciascuno. A tale scopo le armi brossiane sono la satira, la seccatura, l\\'ironia, la critica e addirittura l\\'irriverenza. Nel corso della sua carriera letteraria Brossa collaborò spesso con importanti artisti di altre discipline, tali i pittori Joan Miró e Antoni Tàpies, i musicisti Josep M. Mestres Quadreny e Carles Santos, lo scultore Eduardo Chillida, il regista Pere Portabella, il fotografo Chema Madoz. Brossa non voleva essere chiamato altro che \"poeta\". Comunque è stato il suo lavoro plastico (poemi visuali, poemi oggetto, installazioni, poster, poemi urbani, ecc.), il quale ovviamente varca ogni confine linguistico, ad ottenere un riconoscimento mondiale anche in circoli spesso altresì disconoscenti riguardo alla sua, pur immensa, produzione letteraria. Fedele ai parametri futuristici, già nel 1941 abbozzò i suoi primi «poemi sperimentali» in cui venivano oltrepassate le norme della letteratura strictu senso con una tecnica non lontana dal calligramma. L\\'esordio di Brossa nella plastica vera e propria è un objet trouvé datato 1943. Nel 1953 concepisce il suo primo poema-oggetto (un accoppiamento di due oggetti dispari) e tre anni dopo realizza la prima installazione in un negozio di Barcellona. È comunque negli anni sessanta che la sua sperimentazione nella poesia visiva e nella poesia oggettuale raggiunge la pienezza sia in numero che in profondità. È del 1960 il poema oggetto Cerilla (Fiammifero), probabilmente la prima opera europea d\\'arte concettuale, e del 1965 il libro di artista Novel·la (Romanzo) -creato in collaborazione con Antoni Tàpies- che è ritenuto un capolavoro di detto genere. Brossa creava i poemi visuali (oltre milletrecento) in serie regolate allo scopo di presentarli in formato libro. Alcune decine di essi vennero poi pubblicati in singole serigrafie, ma la maggioranza resta tuttora inedita. Dopo il ripristino della democrazia in Spagna (1978), la poesia di Brossa si spiega nei poster, spesso dedicati alla cultura popolare ormai esplosa in piena libertà. Contemporaneamente i suoi libri di poesia letteraria vengono pubblicati non più censurati, né idiomaticamente né ideologicamente. Ben presto Brossa riceve incarichi dalle nuove autorità democratiche, e quindi nel 1984 la sua poesia raggiunge gli spazi pubblici con il monumentale Poema visuale transitabile in tre parti del Parc del Laberint d\\'Horta di Barcellona: è il suo primo «poema urbano», un nuovo concetto di poesia che, pari al letterario, al drammatico, al visuale e all\\'oggettuale, il poeta non abbandonerà più. Dopo la prima retrospettiva alla Fundació Joan Miró di Barcellona nel 1986, l\\'opera plastica di Brossa viene subito esibita individualmente all\\'estero: Monaco di Baviera (1988), New York e Basilea (1989), Houston e Minneapolis (1990), Céret-Collioure (1991)... Proprio quest\\'anno una grande mostra antologica al Museo Nacional Centro de Arte Reina Sofia di Madrid ribadì il riconoscimento internazionale del poeta, la cui opera venne presentata nei padiglioni ufficiali delle Biennali di São Paulo (1994) e di Venezia (1997) ed esposta singolarmente a Londra e Chicago (1992), Marsiglia e Malmö (1993), Parigi (1995), Francoforte (1997), Città del Messico, Monterrey, Cassel e Göteborg (1998). Dopo la morte del poeta, una nuova antologica alla Fundació Joan Miró di Barcellona (2001) situò Brossa tra i più importanti nomi della creazione artistica della seconda metà del XX secolo. Dal 2005 in poi altre retrospettive sono state presentate in parecchie città del Cile, dell\\'Argentina, del Brasile, del Portogallo, della Spagna, dell\\'Austria, della Repubblica Ceca, della Svezia, della Francia, della Germania, della Polonia, del Messico ed ancora della Francia. Nel frattempo l\\'opera plastica di Brossa arrivava a musei e collezioni private di tutto il mondo, la sua poesia scenica veniva rappresentata ovunque e le traduzioni della sua poesia letteraria raggiungevano la quindicina di lingue. Nel 1988 Joan Brossa era stato decorato dall\\'UNESCO con la medaglia Picasso. Il 1999 nella circostanza dell\\'ottantesimo anniversario del poeta, l\\'Università Autonoma di Barcellona intendeva conferirgli la laurea honoris causa, ma Brossa morì venti giorni prima a causa di un incidente domestico. Dal 2012 l\\'enorme lascito di Joan Brossa -oltre 64.000 capi- è custodito dal Museo di Arte Contemporanea di Barcellona con impegno di classifica, studio ed esibizione.',\n",
              " 'Bound - Torbido inganno (Bound) è un film del 1996 scritto e diretto da Lana e Lilly Wachowski. È il primo film diretto dalle sorelle Wachowski, prima del grande successo cinematografico e mediatico di Matrix, che avverrà quasi quattro anni dopo.',\n",
              " \"Enrico VIII è un dramma storico di William Shakespeare composto nel 1612 - 1613 alla cui stesura del testo collaborò probabilmente, come già ne I due nobili cugini, il drammaturgo John Fletcher. È ispirato alla figura di Enrico VIII d'Inghilterra.\",\n",
              " 'La provincia di Ratchaburi si trova in Thailandia, nella regione della Thailandia Centrale. Si estende per 5.196,5 km², ha 847.695 abitanti ed il capoluogo è il distretto di Mueang Ratchaburi. La città principale è Ratchaburi.',\n",
              " 'La lingua pemon è una lingua caribe parlata in Venezuela, Brasile e Guyana.']"
            ]
          },
          "metadata": {},
          "execution_count": 17
        }
      ]
    },
    {
      "cell_type": "code",
      "source": [
        "testing_dataset = tp.create_test_set(italian_documents)"
      ],
      "metadata": {
        "colab": {
          "base_uri": "https://localhost:8080/",
          "height": 49,
          "referenced_widgets": [
            "999b127cd39149e2b60bda2a06cf0c96",
            "97a913d23e444fc685b6067ad13dd340",
            "43fcfd8bef6541c4996e78dc4bd2e0a3",
            "3cf7e0dc34a943c1a1e33c887ffeb541",
            "8cb518056bf04f5b8b3611413f4e8ed4",
            "f2df24b324944460b168d830fb5af090",
            "f675afdda6934d96bd32b45f0828a2f9",
            "45ee45cf17564f8f8f37a975ffed5f1b",
            "0866458cf5fc4892828d31809b9dc66e",
            "0911197728394050bdad5624ca7eb9b7",
            "d36fcf9a08ff4b8f8840070628c22186"
          ]
        },
        "id": "O-tHiJyPOwlC",
        "outputId": "8f70d682-485c-444d-da33-90da33b4faa9"
      },
      "execution_count": 18,
      "outputs": [
        {
          "output_type": "display_data",
          "data": {
            "application/vnd.jupyter.widget-view+json": {
              "model_id": "999b127cd39149e2b60bda2a06cf0c96",
              "version_minor": 0,
              "version_major": 2
            },
            "text/plain": [
              "Batches:   0%|          | 0/1 [00:00<?, ?it/s]"
            ]
          },
          "metadata": {}
        }
      ]
    },
    {
      "cell_type": "code",
      "source": [
        "italian_topics_predictions = ctm.get_thetas(testing_dataset, n_samples=5)"
      ],
      "metadata": {
        "colab": {
          "base_uri": "https://localhost:8080/"
        },
        "id": "PUqJFbd-Oye5",
        "outputId": "3eeac401-46ce-47ed-ff41-513bf016c56b"
      },
      "execution_count": 19,
      "outputs": [
        {
          "output_type": "stream",
          "name": "stderr",
          "text": [
            "/usr/local/lib/python3.7/dist-packages/contextualized_topic_models/models/ctm.py:257: DeprecationWarning: Call to `get_thetas` is deprecated and will be removed in version 2, use `get_doc_topic_distribution` instead\n",
            "  DeprecationWarning)\n",
            "Sampling: [5/5]: : 5it [00:00,  5.46it/s]\n"
          ]
        }
      ]
    },
    {
      "cell_type": "code",
      "source": [
        "italian_documents[0]"
      ],
      "metadata": {
        "colab": {
          "base_uri": "https://localhost:8080/",
          "height": 140
        },
        "id": "C7Zpvb1rO0qp",
        "outputId": "2cc91379-c44e-40b1-f2de-1b44b41b5c4e"
      },
      "execution_count": 20,
      "outputs": [
        {
          "output_type": "execute_result",
          "data": {
            "application/vnd.google.colaboratory.intrinsic+json": {
              "type": "string"
            },
            "text/plain": [
              "'Fu l\\'ispiratore e uno dei fondatori della rivista \"Dau al Set\" e dell\\'omonimo gruppo artistico ed intellettuale catalano (1948). È ritenuto il massimo esponente della poesia visiva non solo della letteratura catalana, ma il pioniere di questo genere in Spagna e uno dei grandi riferimenti internazionali. La totalità della sua opera creativa lo segnala come uno degli autori più prolifici della cultura occidentale contemporanea. Sebbene schierato nell\\'avanguardia della poesia della prima metà del XX secolo (esplorò validamente l\\'ipnagogia, il surrealismo e il dadaismo), si esercitò alla scrittura di centinaia di sonetti, odi saffiche e sestine liriche dalla totale perfezione formale alla sperimentazione più estrema, nonché migliaia di poemi in forma libera. In vita pubblicò un\\'ottantina di libri lasciandone parecchi d\\'inediti. Il suo lavoro letterario comprendeva tutti i generi: poesia, prosa, teatro (la sua cosiddetta \"poesia scenica\", oltre 350 opere), cinema, musica, cabaret, performance, arti parateatrali, prestidigitazione, circo. Le sue opere sono state scritte senza eccezioni in lingua catalana. Secondo lui, la forma era prioritaria nei confronti del contenuto, quindi la sua poesia prese spesso l\\'aspetto di gioco con le parole, anzi con le singole lettere, sempre con acuto senso dell\\'umorismo. Ciò non escludeva, però, il forte impegno politico e sociale del suo messaggio artistico nonché il testimonio patriottico catalano. L\\'opera di Brossa, sia lirica che plastica, è sempre collegata alla visualità. La sua letteratura è imbevuta di uno spirito visivo, quasi fotografico, della realtà che deve essere scoperto e rielaborato dal lettore/spettatore secondo i propri atteggiamenti. La comunicazione è quindi contrapposta alla semplice espressione dell\\'artista, il quale deve assumere un ruolo di esca per le potenzialità di ciascuno. A tale scopo le armi brossiane sono la satira, la seccatura, l\\'ironia, la critica e addirittura l\\'irriverenza. Nel corso della sua carriera letteraria Brossa collaborò spesso con importanti artisti di altre discipline, tali i pittori Joan Miró e Antoni Tàpies, i musicisti Josep M. Mestres Quadreny e Carles Santos, lo scultore Eduardo Chillida, il regista Pere Portabella, il fotografo Chema Madoz. Brossa non voleva essere chiamato altro che \"poeta\". Comunque è stato il suo lavoro plastico (poemi visuali, poemi oggetto, installazioni, poster, poemi urbani, ecc.), il quale ovviamente varca ogni confine linguistico, ad ottenere un riconoscimento mondiale anche in circoli spesso altresì disconoscenti riguardo alla sua, pur immensa, produzione letteraria. Fedele ai parametri futuristici, già nel 1941 abbozzò i suoi primi «poemi sperimentali» in cui venivano oltrepassate le norme della letteratura strictu senso con una tecnica non lontana dal calligramma. L\\'esordio di Brossa nella plastica vera e propria è un objet trouvé datato 1943. Nel 1953 concepisce il suo primo poema-oggetto (un accoppiamento di due oggetti dispari) e tre anni dopo realizza la prima installazione in un negozio di Barcellona. È comunque negli anni sessanta che la sua sperimentazione nella poesia visiva e nella poesia oggettuale raggiunge la pienezza sia in numero che in profondità. È del 1960 il poema oggetto Cerilla (Fiammifero), probabilmente la prima opera europea d\\'arte concettuale, e del 1965 il libro di artista Novel·la (Romanzo) -creato in collaborazione con Antoni Tàpies- che è ritenuto un capolavoro di detto genere. Brossa creava i poemi visuali (oltre milletrecento) in serie regolate allo scopo di presentarli in formato libro. Alcune decine di essi vennero poi pubblicati in singole serigrafie, ma la maggioranza resta tuttora inedita. Dopo il ripristino della democrazia in Spagna (1978), la poesia di Brossa si spiega nei poster, spesso dedicati alla cultura popolare ormai esplosa in piena libertà. Contemporaneamente i suoi libri di poesia letteraria vengono pubblicati non più censurati, né idiomaticamente né ideologicamente. Ben presto Brossa riceve incarichi dalle nuove autorità democratiche, e quindi nel 1984 la sua poesia raggiunge gli spazi pubblici con il monumentale Poema visuale transitabile in tre parti del Parc del Laberint d\\'Horta di Barcellona: è il suo primo «poema urbano», un nuovo concetto di poesia che, pari al letterario, al drammatico, al visuale e all\\'oggettuale, il poeta non abbandonerà più. Dopo la prima retrospettiva alla Fundació Joan Miró di Barcellona nel 1986, l\\'opera plastica di Brossa viene subito esibita individualmente all\\'estero: Monaco di Baviera (1988), New York e Basilea (1989), Houston e Minneapolis (1990), Céret-Collioure (1991)... Proprio quest\\'anno una grande mostra antologica al Museo Nacional Centro de Arte Reina Sofia di Madrid ribadì il riconoscimento internazionale del poeta, la cui opera venne presentata nei padiglioni ufficiali delle Biennali di São Paulo (1994) e di Venezia (1997) ed esposta singolarmente a Londra e Chicago (1992), Marsiglia e Malmö (1993), Parigi (1995), Francoforte (1997), Città del Messico, Monterrey, Cassel e Göteborg (1998). Dopo la morte del poeta, una nuova antologica alla Fundació Joan Miró di Barcellona (2001) situò Brossa tra i più importanti nomi della creazione artistica della seconda metà del XX secolo. Dal 2005 in poi altre retrospettive sono state presentate in parecchie città del Cile, dell\\'Argentina, del Brasile, del Portogallo, della Spagna, dell\\'Austria, della Repubblica Ceca, della Svezia, della Francia, della Germania, della Polonia, del Messico ed ancora della Francia. Nel frattempo l\\'opera plastica di Brossa arrivava a musei e collezioni private di tutto il mondo, la sua poesia scenica veniva rappresentata ovunque e le traduzioni della sua poesia letteraria raggiungevano la quindicina di lingue. Nel 1988 Joan Brossa era stato decorato dall\\'UNESCO con la medaglia Picasso. Il 1999 nella circostanza dell\\'ottantesimo anniversario del poeta, l\\'Università Autonoma di Barcellona intendeva conferirgli la laurea honoris causa, ma Brossa morì venti giorni prima a causa di un incidente domestico. Dal 2012 l\\'enorme lascito di Joan Brossa -oltre 64.000 capi- è custodito dal Museo di Arte Contemporanea di Barcellona con impegno di classifica, studio ed esibizione.'"
            ]
          },
          "metadata": {},
          "execution_count": 20
        }
      ]
    },
    {
      "cell_type": "code",
      "source": [
        "topic_number = np.argmax(italian_topics_predictions[0]) # get the topic id of the first document\n",
        "ctm.get_topic_lists(10)[topic_number] "
      ],
      "metadata": {
        "colab": {
          "base_uri": "https://localhost:8080/"
        },
        "id": "P5Jqt6tLO2JB",
        "outputId": "1853ccdf-5a1d-4c8c-e551-1138a55fceef"
      },
      "execution_count": 21,
      "outputs": [
        {
          "output_type": "execute_result",
          "data": {
            "text/plain": [
              "['french',\n",
              " 'published',\n",
              " 'writer',\n",
              " 'work',\n",
              " 'war',\n",
              " 'book',\n",
              " 'children',\n",
              " 'author',\n",
              " 'books',\n",
              " 'art']"
            ]
          },
          "metadata": {},
          "execution_count": 21
        }
      ]
    }
  ]
}